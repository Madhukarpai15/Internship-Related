{
 "cells": [
  {
   "cell_type": "code",
   "execution_count": 2,
   "metadata": {},
   "outputs": [],
   "source": [
    "import math\n",
    "import numpy as np\n",
    "import pandas as pd"
   ]
  },
  {
   "cell_type": "markdown",
   "metadata": {},
   "source": [
    "We read the dataset provided by using the pandas  library as follows:"
   ]
  },
  {
   "cell_type": "code",
   "execution_count": 3,
   "metadata": {},
   "outputs": [
    {
     "data": {
      "text/html": [
       "<div>\n",
       "<style scoped>\n",
       "    .dataframe tbody tr th:only-of-type {\n",
       "        vertical-align: middle;\n",
       "    }\n",
       "\n",
       "    .dataframe tbody tr th {\n",
       "        vertical-align: top;\n",
       "    }\n",
       "\n",
       "    .dataframe thead th {\n",
       "        text-align: right;\n",
       "    }\n",
       "</style>\n",
       "<table border=\"1\" class=\"dataframe\">\n",
       "  <thead>\n",
       "    <tr style=\"text-align: right;\">\n",
       "      <th></th>\n",
       "      <th>Date</th>\n",
       "      <th>Milk_Sales (Gallons)</th>\n",
       "      <th>Milk_Forecast (Gallons)</th>\n",
       "      <th>Bread_Sales (Loaves)</th>\n",
       "      <th>Bread_Forecast (Loaves)</th>\n",
       "      <th>Bananas_Sales (Pounds)</th>\n",
       "      <th>Bananas_Forecast (Pounds)</th>\n",
       "      <th>Chicken_Sales (Pounds)</th>\n",
       "      <th>Chicken_Forecast (Pounds)</th>\n",
       "      <th>Toilet_Paper_Sales (Packs of 12 Rolls)</th>\n",
       "      <th>Toilet_Paper_Forecast (Packs of 12 Rolls)</th>\n",
       "    </tr>\n",
       "  </thead>\n",
       "  <tbody>\n",
       "    <tr>\n",
       "      <th>0</th>\n",
       "      <td>1/1/2024</td>\n",
       "      <td>200</td>\n",
       "      <td>205</td>\n",
       "      <td>150</td>\n",
       "      <td>155</td>\n",
       "      <td>300</td>\n",
       "      <td>310</td>\n",
       "      <td>180</td>\n",
       "      <td>175</td>\n",
       "      <td>100</td>\n",
       "      <td>105</td>\n",
       "    </tr>\n",
       "    <tr>\n",
       "      <th>1</th>\n",
       "      <td>1/2/2024</td>\n",
       "      <td>195</td>\n",
       "      <td>190</td>\n",
       "      <td>155</td>\n",
       "      <td>150</td>\n",
       "      <td>310</td>\n",
       "      <td>300</td>\n",
       "      <td>175</td>\n",
       "      <td>170</td>\n",
       "      <td>110</td>\n",
       "      <td>115</td>\n",
       "    </tr>\n",
       "    <tr>\n",
       "      <th>2</th>\n",
       "      <td>1/3/2024</td>\n",
       "      <td>198</td>\n",
       "      <td>200</td>\n",
       "      <td>148</td>\n",
       "      <td>150</td>\n",
       "      <td>295</td>\n",
       "      <td>300</td>\n",
       "      <td>190</td>\n",
       "      <td>185</td>\n",
       "      <td>120</td>\n",
       "      <td>125</td>\n",
       "    </tr>\n",
       "    <tr>\n",
       "      <th>3</th>\n",
       "      <td>1/4/2024</td>\n",
       "      <td>202</td>\n",
       "      <td>200</td>\n",
       "      <td>160</td>\n",
       "      <td>160</td>\n",
       "      <td>280</td>\n",
       "      <td>275</td>\n",
       "      <td>185</td>\n",
       "      <td>190</td>\n",
       "      <td>130</td>\n",
       "      <td>135</td>\n",
       "    </tr>\n",
       "    <tr>\n",
       "      <th>4</th>\n",
       "      <td>1/5/2024</td>\n",
       "      <td>199</td>\n",
       "      <td>200</td>\n",
       "      <td>152</td>\n",
       "      <td>150</td>\n",
       "      <td>290</td>\n",
       "      <td>295</td>\n",
       "      <td>170</td>\n",
       "      <td>165</td>\n",
       "      <td>105</td>\n",
       "      <td>100</td>\n",
       "    </tr>\n",
       "  </tbody>\n",
       "</table>\n",
       "</div>"
      ],
      "text/plain": [
       "       Date  Milk_Sales (Gallons)  Milk_Forecast (Gallons)  \\\n",
       "0  1/1/2024                   200                      205   \n",
       "1  1/2/2024                   195                      190   \n",
       "2  1/3/2024                   198                      200   \n",
       "3  1/4/2024                   202                      200   \n",
       "4  1/5/2024                   199                      200   \n",
       "\n",
       "   Bread_Sales (Loaves)  Bread_Forecast (Loaves)  Bananas_Sales (Pounds)  \\\n",
       "0                   150                      155                     300   \n",
       "1                   155                      150                     310   \n",
       "2                   148                      150                     295   \n",
       "3                   160                      160                     280   \n",
       "4                   152                      150                     290   \n",
       "\n",
       "   Bananas_Forecast (Pounds)  Chicken_Sales (Pounds)  \\\n",
       "0                        310                     180   \n",
       "1                        300                     175   \n",
       "2                        300                     190   \n",
       "3                        275                     185   \n",
       "4                        295                     170   \n",
       "\n",
       "   Chicken_Forecast (Pounds)  Toilet_Paper_Sales (Packs of 12 Rolls)  \\\n",
       "0                        175                                     100   \n",
       "1                        170                                     110   \n",
       "2                        185                                     120   \n",
       "3                        190                                     130   \n",
       "4                        165                                     105   \n",
       "\n",
       "   Toilet_Paper_Forecast (Packs of 12 Rolls)  \n",
       "0                                        105  \n",
       "1                                        115  \n",
       "2                                        125  \n",
       "3                                        135  \n",
       "4                                        100  "
      ]
     },
     "execution_count": 3,
     "metadata": {},
     "output_type": "execute_result"
    }
   ],
   "source": [
    "df=pd.read_csv(\"Worksheet in Case Discussion_Grocesory Store Demand Analysis.csv\")\n",
    "df.head()"
   ]
  },
  {
   "cell_type": "markdown",
   "metadata": {},
   "source": [
    "Now, to calculate the demand patterns for eachc product, I will create dataframes solely for the five different products.\n",
    "\n",
    "Starting with milk first, this is done as follows: \n"
   ]
  },
  {
   "cell_type": "code",
   "execution_count": 4,
   "metadata": {},
   "outputs": [
    {
     "data": {
      "text/html": [
       "<div>\n",
       "<style scoped>\n",
       "    .dataframe tbody tr th:only-of-type {\n",
       "        vertical-align: middle;\n",
       "    }\n",
       "\n",
       "    .dataframe tbody tr th {\n",
       "        vertical-align: top;\n",
       "    }\n",
       "\n",
       "    .dataframe thead th {\n",
       "        text-align: right;\n",
       "    }\n",
       "</style>\n",
       "<table border=\"1\" class=\"dataframe\">\n",
       "  <thead>\n",
       "    <tr style=\"text-align: right;\">\n",
       "      <th></th>\n",
       "      <th>Date</th>\n",
       "      <th>Milk_Sales (Gallons)</th>\n",
       "      <th>Milk_Forecast (Gallons)</th>\n",
       "    </tr>\n",
       "  </thead>\n",
       "  <tbody>\n",
       "    <tr>\n",
       "      <th>0</th>\n",
       "      <td>1/1/2024</td>\n",
       "      <td>200</td>\n",
       "      <td>205</td>\n",
       "    </tr>\n",
       "    <tr>\n",
       "      <th>1</th>\n",
       "      <td>1/2/2024</td>\n",
       "      <td>195</td>\n",
       "      <td>190</td>\n",
       "    </tr>\n",
       "    <tr>\n",
       "      <th>2</th>\n",
       "      <td>1/3/2024</td>\n",
       "      <td>198</td>\n",
       "      <td>200</td>\n",
       "    </tr>\n",
       "    <tr>\n",
       "      <th>3</th>\n",
       "      <td>1/4/2024</td>\n",
       "      <td>202</td>\n",
       "      <td>200</td>\n",
       "    </tr>\n",
       "    <tr>\n",
       "      <th>4</th>\n",
       "      <td>1/5/2024</td>\n",
       "      <td>199</td>\n",
       "      <td>200</td>\n",
       "    </tr>\n",
       "  </tbody>\n",
       "</table>\n",
       "</div>"
      ],
      "text/plain": [
       "       Date  Milk_Sales (Gallons)  Milk_Forecast (Gallons)\n",
       "0  1/1/2024                   200                      205\n",
       "1  1/2/2024                   195                      190\n",
       "2  1/3/2024                   198                      200\n",
       "3  1/4/2024                   202                      200\n",
       "4  1/5/2024                   199                      200"
      ]
     },
     "execution_count": 4,
     "metadata": {},
     "output_type": "execute_result"
    }
   ],
   "source": [
    "milk=pd.DataFrame()\n",
    "milk=pd.concat([milk,df['Date'],df['Milk_Sales (Gallons)'],df['Milk_Forecast (Gallons)']],axis=1)\n",
    "milk.head()\n"
   ]
  },
  {
   "cell_type": "code",
   "execution_count": 5,
   "metadata": {},
   "outputs": [
    {
     "data": {
      "text/plain": [
       "0    200\n",
       "1    195\n",
       "2    198\n",
       "3    202\n",
       "4    199\n",
       "Name: Milk_Sales (Gallons), dtype: int64"
      ]
     },
     "execution_count": 5,
     "metadata": {},
     "output_type": "execute_result"
    }
   ],
   "source": [
    "milk_actual=milk['Milk_Sales (Gallons)']\n",
    "milk_actual.head()"
   ]
  },
  {
   "cell_type": "code",
   "execution_count": 6,
   "metadata": {},
   "outputs": [
    {
     "data": {
      "text/plain": [
       "0    205\n",
       "1    190\n",
       "2    200\n",
       "3    200\n",
       "4    200\n",
       "Name: Milk_Forecast (Gallons), dtype: int64"
      ]
     },
     "execution_count": 6,
     "metadata": {},
     "output_type": "execute_result"
    }
   ],
   "source": [
    "milk_fore=milk['Milk_Forecast (Gallons)']\n",
    "milk_fore.head()"
   ]
  },
  {
   "cell_type": "markdown",
   "metadata": {},
   "source": [
    "Now, we start by calculating the different types of errors between the actual sales and the forecast sales"
   ]
  },
  {
   "cell_type": "code",
   "execution_count": 7,
   "metadata": {},
   "outputs": [
    {
     "name": "stdout",
     "output_type": "stream",
     "text": [
      "[-5, 5, -2, 2, -1, 0, -5, -5, 5, -2, -3, 0, 0, -2, 2, 4, 0, -5, -5, 5, -2, -3, 0, 0, -2, 2, 4, 0, -5, -5]\n",
      "[5, 5, 2, 2, 1, 0, 5, 5, 5, 2, 3, 0, 0, 2, 2, 4, 0, 5, 5, 5, 2, 3, 0, 0, 2, 2, 4, 0, 5, 5]\n",
      "[2.5, 2.564102564102564, 1.0101010101010102, 0.9900990099009901, 0.5025125628140703, 0.0, 2.3255813953488373, 2.272727272727273, 2.4390243902439024, 1.0101010101010102, 1.4851485148514851, 0.0, 0.0, 1.0101010101010102, 0.9900990099009901, 2.0100502512562812, 0.0, 2.3255813953488373, 2.272727272727273, 2.4390243902439024, 1.0101010101010102, 1.4851485148514851, 0.0, 0.0, 1.0101010101010102, 0.9900990099009901, 2.0100502512562812, 0.0, 2.3255813953488373, 2.272727272727273]\n",
      "[25, 25, 4, 4, 1, 0, 25, 25, 25, 4, 9, 0, 0, 4, 4, 16, 0, 25, 25, 25, 4, 9, 0, 0, 4, 4, 16, 0, 25, 25]\n"
     ]
    }
   ],
   "source": [
    "error=[]\n",
    "abs_error=[]\n",
    "perc_error=[]\n",
    "sq_error=[]\n",
    "for i in range(len(milk_actual)):\n",
    "    ele1=milk_actual[i]-milk_fore[i]\n",
    "    ele2=int(math.fabs(ele1))\n",
    "    ele3=(ele2/milk_actual[i])*100\n",
    "    ele4=ele1**2\n",
    "    error.append(ele1)\n",
    "    abs_error.append(ele2)\n",
    "    perc_error.append(ele3)\n",
    "    sq_error.append(ele4)\n",
    "\n",
    "print(error)\n",
    "print(abs_error)\n",
    "print(perc_error)\n",
    "print(sq_error)"
   ]
  },
  {
   "cell_type": "markdown",
   "metadata": {},
   "source": [
    "Once we calculate all the errors, it is time to add them in our dataframe as follows:"
   ]
  },
  {
   "cell_type": "code",
   "execution_count": 8,
   "metadata": {},
   "outputs": [],
   "source": [
    "df1=pd.DataFrame(error)\n",
    "df2=pd.DataFrame(abs_error)\n",
    "df3=pd.DataFrame(perc_error)\n",
    "df4=pd.DataFrame(sq_error)\n"
   ]
  },
  {
   "cell_type": "code",
   "execution_count": 9,
   "metadata": {},
   "outputs": [],
   "source": [
    "milk=pd.concat([milk,df1,df2,df3,df4,],axis=1)"
   ]
  },
  {
   "cell_type": "code",
   "execution_count": 10,
   "metadata": {},
   "outputs": [],
   "source": [
    "milk.columns=['Date','Milk_Sales (Gallons)','Milk_Forecast (Gallons)','Error','Absolute Error','Percentage Error','Squared Error' ]"
   ]
  },
  {
   "cell_type": "code",
   "execution_count": 11,
   "metadata": {},
   "outputs": [
    {
     "data": {
      "text/html": [
       "<div>\n",
       "<style scoped>\n",
       "    .dataframe tbody tr th:only-of-type {\n",
       "        vertical-align: middle;\n",
       "    }\n",
       "\n",
       "    .dataframe tbody tr th {\n",
       "        vertical-align: top;\n",
       "    }\n",
       "\n",
       "    .dataframe thead th {\n",
       "        text-align: right;\n",
       "    }\n",
       "</style>\n",
       "<table border=\"1\" class=\"dataframe\">\n",
       "  <thead>\n",
       "    <tr style=\"text-align: right;\">\n",
       "      <th></th>\n",
       "      <th>Date</th>\n",
       "      <th>Milk_Sales (Gallons)</th>\n",
       "      <th>Milk_Forecast (Gallons)</th>\n",
       "      <th>Error</th>\n",
       "      <th>Absolute Error</th>\n",
       "      <th>Percentage Error</th>\n",
       "      <th>Squared Error</th>\n",
       "    </tr>\n",
       "  </thead>\n",
       "  <tbody>\n",
       "    <tr>\n",
       "      <th>0</th>\n",
       "      <td>1/1/2024</td>\n",
       "      <td>200</td>\n",
       "      <td>205</td>\n",
       "      <td>-5</td>\n",
       "      <td>5</td>\n",
       "      <td>2.500000</td>\n",
       "      <td>25</td>\n",
       "    </tr>\n",
       "    <tr>\n",
       "      <th>1</th>\n",
       "      <td>1/2/2024</td>\n",
       "      <td>195</td>\n",
       "      <td>190</td>\n",
       "      <td>5</td>\n",
       "      <td>5</td>\n",
       "      <td>2.564103</td>\n",
       "      <td>25</td>\n",
       "    </tr>\n",
       "    <tr>\n",
       "      <th>2</th>\n",
       "      <td>1/3/2024</td>\n",
       "      <td>198</td>\n",
       "      <td>200</td>\n",
       "      <td>-2</td>\n",
       "      <td>2</td>\n",
       "      <td>1.010101</td>\n",
       "      <td>4</td>\n",
       "    </tr>\n",
       "    <tr>\n",
       "      <th>3</th>\n",
       "      <td>1/4/2024</td>\n",
       "      <td>202</td>\n",
       "      <td>200</td>\n",
       "      <td>2</td>\n",
       "      <td>2</td>\n",
       "      <td>0.990099</td>\n",
       "      <td>4</td>\n",
       "    </tr>\n",
       "    <tr>\n",
       "      <th>4</th>\n",
       "      <td>1/5/2024</td>\n",
       "      <td>199</td>\n",
       "      <td>200</td>\n",
       "      <td>-1</td>\n",
       "      <td>1</td>\n",
       "      <td>0.502513</td>\n",
       "      <td>1</td>\n",
       "    </tr>\n",
       "  </tbody>\n",
       "</table>\n",
       "</div>"
      ],
      "text/plain": [
       "       Date  Milk_Sales (Gallons)  Milk_Forecast (Gallons)  Error  \\\n",
       "0  1/1/2024                   200                      205     -5   \n",
       "1  1/2/2024                   195                      190      5   \n",
       "2  1/3/2024                   198                      200     -2   \n",
       "3  1/4/2024                   202                      200      2   \n",
       "4  1/5/2024                   199                      200     -1   \n",
       "\n",
       "   Absolute Error  Percentage Error  Squared Error  \n",
       "0               5          2.500000             25  \n",
       "1               5          2.564103             25  \n",
       "2               2          1.010101              4  \n",
       "3               2          0.990099              4  \n",
       "4               1          0.502513              1  "
      ]
     },
     "execution_count": 11,
     "metadata": {},
     "output_type": "execute_result"
    }
   ],
   "source": [
    "milk.head()"
   ]
  },
  {
   "cell_type": "markdown",
   "metadata": {},
   "source": [
    "Once they are added to the DataFrame, its time to calculate the MAPE, MAD, Forecast Bias, and Variance values."
   ]
  },
  {
   "cell_type": "code",
   "execution_count": 12,
   "metadata": {},
   "outputs": [
    {
     "name": "stdout",
     "output_type": "stream",
     "text": [
      "[2.5, 2.564102564102564, 1.0101010101010102, 0.9900990099009901, 0.5025125628140703, 0.0, 2.3255813953488373, 2.272727272727273, 2.4390243902439024, 1.0101010101010102, 1.4851485148514851, 0.0, 0.0, 1.0101010101010102, 0.9900990099009901, 2.0100502512562812, 0.0, 2.3255813953488373, 2.272727272727273, 2.4390243902439024, 1.0101010101010102, 1.4851485148514851, 0.0, 0.0, 1.0101010101010102, 0.9900990099009901, 2.0100502512562812, 0.0, 2.3255813953488373, 2.272727272727273]\n"
     ]
    }
   ],
   "source": [
    "mape_val=[]\n",
    "for i in range(len(milk_actual)):\n",
    "    ele=math.fabs((milk_actual[i]-milk_fore[i])/milk_actual[i])*100\n",
    "    mape_val.append(ele)\n",
    "print(mape_val)"
   ]
  },
  {
   "cell_type": "code",
   "execution_count": 13,
   "metadata": {},
   "outputs": [
    {
     "name": "stdout",
     "output_type": "stream",
     "text": [
      "1.3083596508018773\n"
     ]
    }
   ],
   "source": [
    "Sum=0\n",
    "for i in mape_val:\n",
    "    Sum+=i\n",
    "mape=Sum/len(mape_val)\n",
    "print(mape)"
   ]
  },
  {
   "cell_type": "code",
   "execution_count": 14,
   "metadata": {},
   "outputs": [],
   "source": [
    "MAPE=[mape]\n",
    "df5=pd.DataFrame(MAPE)\n",
    "milk=pd.concat([milk,df5],axis=1)"
   ]
  },
  {
   "cell_type": "code",
   "execution_count": 15,
   "metadata": {},
   "outputs": [
    {
     "name": "stdout",
     "output_type": "stream",
     "text": [
      "[5.0, 5.0, 2.0, 2.0, 1.0, 0.0, 5.0, 5.0, 5.0, 2.0, 3.0, 0.0, 0.0, 2.0, 2.0, 4.0, 0.0, 5.0, 5.0, 5.0, 2.0, 3.0, 0.0, 0.0, 2.0, 2.0, 4.0, 0.0, 5.0, 5.0]\n"
     ]
    }
   ],
   "source": [
    "mad_val=[]\n",
    "for i in range(len(milk_actual)):\n",
    "    ele=math.fabs(milk_actual[i]-milk_fore[i])\n",
    "    mad_val.append(ele)\n",
    "print(mad_val)"
   ]
  },
  {
   "cell_type": "code",
   "execution_count": 16,
   "metadata": {},
   "outputs": [
    {
     "name": "stdout",
     "output_type": "stream",
     "text": [
      "1.3083596508018773\n"
     ]
    }
   ],
   "source": [
    "summ=0\n",
    "for i in mad_val:\n",
    "    summ+=i\n",
    "mad=Sum/len(mad_val)\n",
    "print(mad)"
   ]
  },
  {
   "cell_type": "code",
   "execution_count": 17,
   "metadata": {},
   "outputs": [],
   "source": [
    "MAD=[mad]\n",
    "df6=pd.DataFrame(MAD)\n",
    "milk=pd.concat([milk,df6],axis=1)"
   ]
  },
  {
   "cell_type": "code",
   "execution_count": 18,
   "metadata": {},
   "outputs": [
    {
     "name": "stdout",
     "output_type": "stream",
     "text": [
      "[5, -5, 2, -2, 1, 0, 5, 5, -5, 2, 3, 0, 0, 2, -2, -4, 0, 5, 5, -5, 2, 3, 0, 0, 2, -2, -4, 0, 5, 5]\n"
     ]
    }
   ],
   "source": [
    "fore_val=[]\n",
    "for i in range(len(milk_fore)):\n",
    "    ele=milk_fore[i]-milk_actual[i]\n",
    "    fore_val.append(ele)\n",
    "print(fore_val)"
   ]
  },
  {
   "cell_type": "code",
   "execution_count": 19,
   "metadata": {},
   "outputs": [
    {
     "name": "stdout",
     "output_type": "stream",
     "text": [
      "0.7666666666666667\n"
     ]
    }
   ],
   "source": [
    "ssum=0\n",
    "for i in fore_val:\n",
    "    ssum+=i\n",
    "fore=ssum/len(fore_val)\n",
    "print(fore)"
   ]
  },
  {
   "cell_type": "code",
   "execution_count": 20,
   "metadata": {},
   "outputs": [],
   "source": [
    "BIAS=[fore]\n",
    "df7=pd.DataFrame(BIAS)\n",
    "milk=pd.concat([milk,df7],axis=1)"
   ]
  },
  {
   "cell_type": "code",
   "execution_count": 21,
   "metadata": {},
   "outputs": [
    {
     "name": "stdout",
     "output_type": "stream",
     "text": [
      "11.1\n"
     ]
    }
   ],
   "source": [
    "sse=milk[\"Squared Error\"]\n",
    "suum=0\n",
    "for i in sse:\n",
    "    suum+=i\n",
    "var=suum/len(sse)\n",
    "print(var)"
   ]
  },
  {
   "cell_type": "code",
   "execution_count": 22,
   "metadata": {},
   "outputs": [],
   "source": [
    "VAR=[var]\n",
    "df8=pd.DataFrame(VAR)\n",
    "milk=pd.concat([milk,df8],axis=1)"
   ]
  },
  {
   "cell_type": "code",
   "execution_count": 23,
   "metadata": {},
   "outputs": [],
   "source": [
    "milk.columns=['Date','Milk_Sales (Gallons)','Milk_Forecst (Gallons)','Error','Absolute Error','Percentage Error','Squared Error','MAPE','MAD','Forecast Bias','Variance']"
   ]
  },
  {
   "cell_type": "code",
   "execution_count": 24,
   "metadata": {},
   "outputs": [
    {
     "data": {
      "text/html": [
       "<div>\n",
       "<style scoped>\n",
       "    .dataframe tbody tr th:only-of-type {\n",
       "        vertical-align: middle;\n",
       "    }\n",
       "\n",
       "    .dataframe tbody tr th {\n",
       "        vertical-align: top;\n",
       "    }\n",
       "\n",
       "    .dataframe thead th {\n",
       "        text-align: right;\n",
       "    }\n",
       "</style>\n",
       "<table border=\"1\" class=\"dataframe\">\n",
       "  <thead>\n",
       "    <tr style=\"text-align: right;\">\n",
       "      <th></th>\n",
       "      <th>Date</th>\n",
       "      <th>Milk_Sales (Gallons)</th>\n",
       "      <th>Milk_Forecst (Gallons)</th>\n",
       "      <th>Error</th>\n",
       "      <th>Absolute Error</th>\n",
       "      <th>Percentage Error</th>\n",
       "      <th>Squared Error</th>\n",
       "      <th>MAPE</th>\n",
       "      <th>MAD</th>\n",
       "      <th>Forecast Bias</th>\n",
       "      <th>Variance</th>\n",
       "    </tr>\n",
       "  </thead>\n",
       "  <tbody>\n",
       "    <tr>\n",
       "      <th>0</th>\n",
       "      <td>1/1/2024</td>\n",
       "      <td>200</td>\n",
       "      <td>205</td>\n",
       "      <td>-5</td>\n",
       "      <td>5</td>\n",
       "      <td>2.500000</td>\n",
       "      <td>25</td>\n",
       "      <td>1.30836</td>\n",
       "      <td>1.30836</td>\n",
       "      <td>0.766667</td>\n",
       "      <td>11.1</td>\n",
       "    </tr>\n",
       "    <tr>\n",
       "      <th>1</th>\n",
       "      <td>1/2/2024</td>\n",
       "      <td>195</td>\n",
       "      <td>190</td>\n",
       "      <td>5</td>\n",
       "      <td>5</td>\n",
       "      <td>2.564103</td>\n",
       "      <td>25</td>\n",
       "      <td>NaN</td>\n",
       "      <td>NaN</td>\n",
       "      <td>NaN</td>\n",
       "      <td>NaN</td>\n",
       "    </tr>\n",
       "    <tr>\n",
       "      <th>2</th>\n",
       "      <td>1/3/2024</td>\n",
       "      <td>198</td>\n",
       "      <td>200</td>\n",
       "      <td>-2</td>\n",
       "      <td>2</td>\n",
       "      <td>1.010101</td>\n",
       "      <td>4</td>\n",
       "      <td>NaN</td>\n",
       "      <td>NaN</td>\n",
       "      <td>NaN</td>\n",
       "      <td>NaN</td>\n",
       "    </tr>\n",
       "    <tr>\n",
       "      <th>3</th>\n",
       "      <td>1/4/2024</td>\n",
       "      <td>202</td>\n",
       "      <td>200</td>\n",
       "      <td>2</td>\n",
       "      <td>2</td>\n",
       "      <td>0.990099</td>\n",
       "      <td>4</td>\n",
       "      <td>NaN</td>\n",
       "      <td>NaN</td>\n",
       "      <td>NaN</td>\n",
       "      <td>NaN</td>\n",
       "    </tr>\n",
       "    <tr>\n",
       "      <th>4</th>\n",
       "      <td>1/5/2024</td>\n",
       "      <td>199</td>\n",
       "      <td>200</td>\n",
       "      <td>-1</td>\n",
       "      <td>1</td>\n",
       "      <td>0.502513</td>\n",
       "      <td>1</td>\n",
       "      <td>NaN</td>\n",
       "      <td>NaN</td>\n",
       "      <td>NaN</td>\n",
       "      <td>NaN</td>\n",
       "    </tr>\n",
       "  </tbody>\n",
       "</table>\n",
       "</div>"
      ],
      "text/plain": [
       "       Date  Milk_Sales (Gallons)  Milk_Forecst (Gallons)  Error  \\\n",
       "0  1/1/2024                   200                     205     -5   \n",
       "1  1/2/2024                   195                     190      5   \n",
       "2  1/3/2024                   198                     200     -2   \n",
       "3  1/4/2024                   202                     200      2   \n",
       "4  1/5/2024                   199                     200     -1   \n",
       "\n",
       "   Absolute Error  Percentage Error  Squared Error     MAPE      MAD  \\\n",
       "0               5          2.500000             25  1.30836  1.30836   \n",
       "1               5          2.564103             25      NaN      NaN   \n",
       "2               2          1.010101              4      NaN      NaN   \n",
       "3               2          0.990099              4      NaN      NaN   \n",
       "4               1          0.502513              1      NaN      NaN   \n",
       "\n",
       "   Forecast Bias  Variance  \n",
       "0       0.766667      11.1  \n",
       "1            NaN       NaN  \n",
       "2            NaN       NaN  \n",
       "3            NaN       NaN  \n",
       "4            NaN       NaN  "
      ]
     },
     "execution_count": 24,
     "metadata": {},
     "output_type": "execute_result"
    }
   ],
   "source": [
    "milk.head()"
   ]
  },
  {
   "cell_type": "markdown",
   "metadata": {},
   "source": [
    "Once the metrics are calculated and added to the dataframe, we can analyze the forecast accuracy and demand variability for the respective product. \n",
    "\n",
    "We can see that the MAPE value for the Milk forecast is pretty low, which indicates that the forecast for Milk is off by around 1.3%, suggesting that it's an accurate forecast.\n",
    "\n",
    "Now, we do the same for all the products."
   ]
  },
  {
   "cell_type": "markdown",
   "metadata": {},
   "source": [
    "BREAD"
   ]
  },
  {
   "cell_type": "code",
   "execution_count": 25,
   "metadata": {},
   "outputs": [
    {
     "data": {
      "text/html": [
       "<div>\n",
       "<style scoped>\n",
       "    .dataframe tbody tr th:only-of-type {\n",
       "        vertical-align: middle;\n",
       "    }\n",
       "\n",
       "    .dataframe tbody tr th {\n",
       "        vertical-align: top;\n",
       "    }\n",
       "\n",
       "    .dataframe thead th {\n",
       "        text-align: right;\n",
       "    }\n",
       "</style>\n",
       "<table border=\"1\" class=\"dataframe\">\n",
       "  <thead>\n",
       "    <tr style=\"text-align: right;\">\n",
       "      <th></th>\n",
       "      <th>Date</th>\n",
       "      <th>Bread_Sales (Loaves)</th>\n",
       "      <th>Bread_Forecast (Loaves)</th>\n",
       "    </tr>\n",
       "  </thead>\n",
       "  <tbody>\n",
       "    <tr>\n",
       "      <th>0</th>\n",
       "      <td>1/1/2024</td>\n",
       "      <td>150</td>\n",
       "      <td>155</td>\n",
       "    </tr>\n",
       "    <tr>\n",
       "      <th>1</th>\n",
       "      <td>1/2/2024</td>\n",
       "      <td>155</td>\n",
       "      <td>150</td>\n",
       "    </tr>\n",
       "    <tr>\n",
       "      <th>2</th>\n",
       "      <td>1/3/2024</td>\n",
       "      <td>148</td>\n",
       "      <td>150</td>\n",
       "    </tr>\n",
       "    <tr>\n",
       "      <th>3</th>\n",
       "      <td>1/4/2024</td>\n",
       "      <td>160</td>\n",
       "      <td>160</td>\n",
       "    </tr>\n",
       "    <tr>\n",
       "      <th>4</th>\n",
       "      <td>1/5/2024</td>\n",
       "      <td>152</td>\n",
       "      <td>150</td>\n",
       "    </tr>\n",
       "  </tbody>\n",
       "</table>\n",
       "</div>"
      ],
      "text/plain": [
       "       Date  Bread_Sales (Loaves)  Bread_Forecast (Loaves)\n",
       "0  1/1/2024                   150                      155\n",
       "1  1/2/2024                   155                      150\n",
       "2  1/3/2024                   148                      150\n",
       "3  1/4/2024                   160                      160\n",
       "4  1/5/2024                   152                      150"
      ]
     },
     "execution_count": 25,
     "metadata": {},
     "output_type": "execute_result"
    }
   ],
   "source": [
    "bread=pd.DataFrame()\n",
    "bread=pd.concat([bread,df['Date'],df['Bread_Sales (Loaves)'],df['Bread_Forecast (Loaves)']],axis=1)\n",
    "bread.head()\n"
   ]
  },
  {
   "cell_type": "code",
   "execution_count": 26,
   "metadata": {},
   "outputs": [
    {
     "data": {
      "text/plain": [
       "0    150\n",
       "1    155\n",
       "2    148\n",
       "3    160\n",
       "4    152\n",
       "Name: Bread_Sales (Loaves), dtype: int64"
      ]
     },
     "execution_count": 26,
     "metadata": {},
     "output_type": "execute_result"
    }
   ],
   "source": [
    "bread_actual=bread['Bread_Sales (Loaves)']\n",
    "bread_actual.head()"
   ]
  },
  {
   "cell_type": "code",
   "execution_count": 27,
   "metadata": {},
   "outputs": [
    {
     "data": {
      "text/plain": [
       "0    155\n",
       "1    150\n",
       "2    150\n",
       "3    160\n",
       "4    150\n",
       "Name: Bread_Forecast (Loaves), dtype: int64"
      ]
     },
     "execution_count": 27,
     "metadata": {},
     "output_type": "execute_result"
    }
   ],
   "source": [
    "bread_fore=bread['Bread_Forecast (Loaves)']\n",
    "bread_fore.head()"
   ]
  },
  {
   "cell_type": "code",
   "execution_count": 28,
   "metadata": {},
   "outputs": [
    {
     "name": "stdout",
     "output_type": "stream",
     "text": [
      "[-5, 5, -2, 0, 2, 0, -5, -5, 5, -5, -5, 0, 5, -2, 0, 0, -2, 0, 2, 0, -5, -5, 5, -5, -5, 0, 5, -2, 0, 0]\n",
      "[5, 5, 2, 0, 2, 0, 5, 5, 5, 5, 5, 0, 5, 2, 0, 0, 2, 0, 2, 0, 5, 5, 5, 5, 5, 0, 5, 2, 0, 0]\n",
      "[3.3333333333333335, 3.225806451612903, 1.3513513513513513, 0.0, 1.3157894736842104, 0.0, 3.3333333333333335, 3.125, 3.225806451612903, 3.3333333333333335, 3.4482758620689653, 0.0, 3.225806451612903, 1.3513513513513513, 0.0, 0.0, 1.3513513513513513, 0.0, 1.3157894736842104, 0.0, 3.3333333333333335, 3.125, 3.225806451612903, 3.3333333333333335, 3.4482758620689653, 0.0, 3.225806451612903, 1.3513513513513513, 0.0, 0.0]\n",
      "[25, 25, 4, 0, 4, 0, 25, 25, 25, 25, 25, 0, 25, 4, 0, 0, 4, 0, 4, 0, 25, 25, 25, 25, 25, 0, 25, 4, 0, 0]\n"
     ]
    }
   ],
   "source": [
    "error=[]\n",
    "abs_error=[]\n",
    "perc_error=[]\n",
    "sq_error=[]\n",
    "for i in range(len(bread_actual)):\n",
    "    ele1=bread_actual[i]-bread_fore[i]\n",
    "    ele2=int(math.fabs(ele1))\n",
    "    ele3=(ele2/bread_actual[i])*100\n",
    "    ele4=ele1**2\n",
    "    error.append(ele1)\n",
    "    abs_error.append(ele2)\n",
    "    perc_error.append(ele3)\n",
    "    sq_error.append(ele4)\n",
    "\n",
    "print(error)\n",
    "print(abs_error)\n",
    "print(perc_error)\n",
    "print(sq_error)"
   ]
  },
  {
   "cell_type": "code",
   "execution_count": 29,
   "metadata": {},
   "outputs": [],
   "source": [
    "df1=pd.DataFrame(error)\n",
    "df2=pd.DataFrame(abs_error)\n",
    "df3=pd.DataFrame(perc_error)\n",
    "df4=pd.DataFrame(sq_error)\n"
   ]
  },
  {
   "cell_type": "code",
   "execution_count": 30,
   "metadata": {},
   "outputs": [],
   "source": [
    "bread=pd.concat([bread,df1,df2,df3,df4,],axis=1)"
   ]
  },
  {
   "cell_type": "code",
   "execution_count": 31,
   "metadata": {},
   "outputs": [],
   "source": [
    "bread.columns=['Date','Milk_Sales (Gallons)','Milk_Forecast (Gallons)','Error','Absolute Error','Percentage Error','Squared Error' ]"
   ]
  },
  {
   "cell_type": "code",
   "execution_count": 32,
   "metadata": {},
   "outputs": [
    {
     "data": {
      "text/html": [
       "<div>\n",
       "<style scoped>\n",
       "    .dataframe tbody tr th:only-of-type {\n",
       "        vertical-align: middle;\n",
       "    }\n",
       "\n",
       "    .dataframe tbody tr th {\n",
       "        vertical-align: top;\n",
       "    }\n",
       "\n",
       "    .dataframe thead th {\n",
       "        text-align: right;\n",
       "    }\n",
       "</style>\n",
       "<table border=\"1\" class=\"dataframe\">\n",
       "  <thead>\n",
       "    <tr style=\"text-align: right;\">\n",
       "      <th></th>\n",
       "      <th>Date</th>\n",
       "      <th>Milk_Sales (Gallons)</th>\n",
       "      <th>Milk_Forecast (Gallons)</th>\n",
       "      <th>Error</th>\n",
       "      <th>Absolute Error</th>\n",
       "      <th>Percentage Error</th>\n",
       "      <th>Squared Error</th>\n",
       "    </tr>\n",
       "  </thead>\n",
       "  <tbody>\n",
       "    <tr>\n",
       "      <th>0</th>\n",
       "      <td>1/1/2024</td>\n",
       "      <td>150</td>\n",
       "      <td>155</td>\n",
       "      <td>-5</td>\n",
       "      <td>5</td>\n",
       "      <td>3.333333</td>\n",
       "      <td>25</td>\n",
       "    </tr>\n",
       "    <tr>\n",
       "      <th>1</th>\n",
       "      <td>1/2/2024</td>\n",
       "      <td>155</td>\n",
       "      <td>150</td>\n",
       "      <td>5</td>\n",
       "      <td>5</td>\n",
       "      <td>3.225806</td>\n",
       "      <td>25</td>\n",
       "    </tr>\n",
       "    <tr>\n",
       "      <th>2</th>\n",
       "      <td>1/3/2024</td>\n",
       "      <td>148</td>\n",
       "      <td>150</td>\n",
       "      <td>-2</td>\n",
       "      <td>2</td>\n",
       "      <td>1.351351</td>\n",
       "      <td>4</td>\n",
       "    </tr>\n",
       "    <tr>\n",
       "      <th>3</th>\n",
       "      <td>1/4/2024</td>\n",
       "      <td>160</td>\n",
       "      <td>160</td>\n",
       "      <td>0</td>\n",
       "      <td>0</td>\n",
       "      <td>0.000000</td>\n",
       "      <td>0</td>\n",
       "    </tr>\n",
       "    <tr>\n",
       "      <th>4</th>\n",
       "      <td>1/5/2024</td>\n",
       "      <td>152</td>\n",
       "      <td>150</td>\n",
       "      <td>2</td>\n",
       "      <td>2</td>\n",
       "      <td>1.315789</td>\n",
       "      <td>4</td>\n",
       "    </tr>\n",
       "  </tbody>\n",
       "</table>\n",
       "</div>"
      ],
      "text/plain": [
       "       Date  Milk_Sales (Gallons)  Milk_Forecast (Gallons)  Error  \\\n",
       "0  1/1/2024                   150                      155     -5   \n",
       "1  1/2/2024                   155                      150      5   \n",
       "2  1/3/2024                   148                      150     -2   \n",
       "3  1/4/2024                   160                      160      0   \n",
       "4  1/5/2024                   152                      150      2   \n",
       "\n",
       "   Absolute Error  Percentage Error  Squared Error  \n",
       "0               5          3.333333             25  \n",
       "1               5          3.225806             25  \n",
       "2               2          1.351351              4  \n",
       "3               0          0.000000              0  \n",
       "4               2          1.315789              4  "
      ]
     },
     "execution_count": 32,
     "metadata": {},
     "output_type": "execute_result"
    }
   ],
   "source": [
    "bread.head()"
   ]
  },
  {
   "cell_type": "code",
   "execution_count": 33,
   "metadata": {},
   "outputs": [
    {
     "name": "stdout",
     "output_type": "stream",
     "text": [
      "[3.3333333333333335, 3.225806451612903, 1.3513513513513513, 0.0, 1.3157894736842104, 0.0, 3.3333333333333335, 3.125, 3.225806451612903, 3.3333333333333335, 3.4482758620689653, 0.0, 3.225806451612903, 1.3513513513513513, 0.0, 0.0, 1.3513513513513513, 0.0, 1.3157894736842104, 0.0, 3.3333333333333335, 3.125, 3.225806451612903, 3.3333333333333335, 3.4482758620689653, 0.0, 3.225806451612903, 1.3513513513513513, 0.0, 0.0]\n"
     ]
    }
   ],
   "source": [
    "mape_val=[]\n",
    "for i in range(len(bread_actual)):\n",
    "    ele=math.fabs((bread_actual[i]-bread_fore[i])/bread_actual[i])*100\n",
    "    mape_val.append(ele)\n",
    "print(mape_val)"
   ]
  },
  {
   "cell_type": "code",
   "execution_count": 34,
   "metadata": {},
   "outputs": [
    {
     "name": "stdout",
     "output_type": "stream",
     "text": [
      "1.7993078333880983\n"
     ]
    }
   ],
   "source": [
    "Sum=0\n",
    "for i in mape_val:\n",
    "    Sum+=i\n",
    "mape=Sum/len(mape_val)\n",
    "print(mape)"
   ]
  },
  {
   "cell_type": "code",
   "execution_count": 35,
   "metadata": {},
   "outputs": [],
   "source": [
    "MAPE=[mape]\n",
    "df5=pd.DataFrame(MAPE)\n",
    "bread=pd.concat([bread,df5],axis=1)"
   ]
  },
  {
   "cell_type": "code",
   "execution_count": 36,
   "metadata": {},
   "outputs": [
    {
     "name": "stdout",
     "output_type": "stream",
     "text": [
      "[5.0, 5.0, 2.0, 0.0, 2.0, 0.0, 5.0, 5.0, 5.0, 5.0, 5.0, 0.0, 5.0, 2.0, 0.0, 0.0, 2.0, 0.0, 2.0, 0.0, 5.0, 5.0, 5.0, 5.0, 5.0, 0.0, 5.0, 2.0, 0.0, 0.0]\n"
     ]
    }
   ],
   "source": [
    "mad_val=[]\n",
    "for i in range(len(bread_actual)):\n",
    "    ele=math.fabs(bread_actual[i]-bread_fore[i])\n",
    "    mad_val.append(ele)\n",
    "print(mad_val)"
   ]
  },
  {
   "cell_type": "code",
   "execution_count": 37,
   "metadata": {},
   "outputs": [
    {
     "name": "stdout",
     "output_type": "stream",
     "text": [
      "1.7993078333880983\n"
     ]
    }
   ],
   "source": [
    "summ=0\n",
    "for i in mad_val:\n",
    "    summ+=i\n",
    "mad=Sum/len(mad_val)\n",
    "print(mad)"
   ]
  },
  {
   "cell_type": "code",
   "execution_count": 38,
   "metadata": {},
   "outputs": [],
   "source": [
    "MAD=[mad]\n",
    "df6=pd.DataFrame(MAD)\n",
    "bread=pd.concat([bread,df6],axis=1)"
   ]
  },
  {
   "cell_type": "code",
   "execution_count": 39,
   "metadata": {},
   "outputs": [
    {
     "name": "stdout",
     "output_type": "stream",
     "text": [
      "[5, -5, 2, 0, -2, 0, 5, 5, -5, 5, 5, 0, -5, 2, 0, 0, 2, 0, -2, 0, 5, 5, -5, 5, 5, 0, -5, 2, 0, 0]\n"
     ]
    }
   ],
   "source": [
    "fore_val=[]\n",
    "for i in range(len(bread_fore)):\n",
    "    ele=bread_fore[i]-bread_actual[i]\n",
    "    fore_val.append(ele)\n",
    "print(fore_val)"
   ]
  },
  {
   "cell_type": "code",
   "execution_count": 40,
   "metadata": {},
   "outputs": [
    {
     "name": "stdout",
     "output_type": "stream",
     "text": [
      "0.8\n"
     ]
    }
   ],
   "source": [
    "ssum=0\n",
    "for i in fore_val:\n",
    "    ssum+=i\n",
    "fore=ssum/len(fore_val)\n",
    "print(fore)"
   ]
  },
  {
   "cell_type": "code",
   "execution_count": 41,
   "metadata": {},
   "outputs": [],
   "source": [
    "BIAS=[fore]\n",
    "df7=pd.DataFrame(BIAS)\n",
    "bread=pd.concat([bread,df7],axis=1)"
   ]
  },
  {
   "cell_type": "code",
   "execution_count": 42,
   "metadata": {},
   "outputs": [
    {
     "name": "stdout",
     "output_type": "stream",
     "text": [
      "12.466666666666667\n"
     ]
    }
   ],
   "source": [
    "sse=bread[\"Squared Error\"]\n",
    "suum=0\n",
    "for i in sse:\n",
    "    suum+=i\n",
    "var=suum/len(sse)\n",
    "print(var)"
   ]
  },
  {
   "cell_type": "code",
   "execution_count": 43,
   "metadata": {},
   "outputs": [],
   "source": [
    "VAR=[var]\n",
    "df8=pd.DataFrame(VAR)\n",
    "bread=pd.concat([bread,df8],axis=1)"
   ]
  },
  {
   "cell_type": "code",
   "execution_count": 44,
   "metadata": {},
   "outputs": [],
   "source": [
    "bread.columns=['Date','Bread_Sales (Loaves)','Bread_Forecst (Loaves)','Error','Absolute Error','Percentage Error','Squared Error','MAPE','MAD','Forecast Bias','Variance']"
   ]
  },
  {
   "cell_type": "code",
   "execution_count": 45,
   "metadata": {},
   "outputs": [
    {
     "data": {
      "text/html": [
       "<div>\n",
       "<style scoped>\n",
       "    .dataframe tbody tr th:only-of-type {\n",
       "        vertical-align: middle;\n",
       "    }\n",
       "\n",
       "    .dataframe tbody tr th {\n",
       "        vertical-align: top;\n",
       "    }\n",
       "\n",
       "    .dataframe thead th {\n",
       "        text-align: right;\n",
       "    }\n",
       "</style>\n",
       "<table border=\"1\" class=\"dataframe\">\n",
       "  <thead>\n",
       "    <tr style=\"text-align: right;\">\n",
       "      <th></th>\n",
       "      <th>Date</th>\n",
       "      <th>Bread_Sales (Loaves)</th>\n",
       "      <th>Bread_Forecst (Loaves)</th>\n",
       "      <th>Error</th>\n",
       "      <th>Absolute Error</th>\n",
       "      <th>Percentage Error</th>\n",
       "      <th>Squared Error</th>\n",
       "      <th>MAPE</th>\n",
       "      <th>MAD</th>\n",
       "      <th>Forecast Bias</th>\n",
       "      <th>Variance</th>\n",
       "    </tr>\n",
       "  </thead>\n",
       "  <tbody>\n",
       "    <tr>\n",
       "      <th>0</th>\n",
       "      <td>1/1/2024</td>\n",
       "      <td>150</td>\n",
       "      <td>155</td>\n",
       "      <td>-5</td>\n",
       "      <td>5</td>\n",
       "      <td>3.333333</td>\n",
       "      <td>25</td>\n",
       "      <td>1.799308</td>\n",
       "      <td>1.799308</td>\n",
       "      <td>0.8</td>\n",
       "      <td>12.466667</td>\n",
       "    </tr>\n",
       "    <tr>\n",
       "      <th>1</th>\n",
       "      <td>1/2/2024</td>\n",
       "      <td>155</td>\n",
       "      <td>150</td>\n",
       "      <td>5</td>\n",
       "      <td>5</td>\n",
       "      <td>3.225806</td>\n",
       "      <td>25</td>\n",
       "      <td>NaN</td>\n",
       "      <td>NaN</td>\n",
       "      <td>NaN</td>\n",
       "      <td>NaN</td>\n",
       "    </tr>\n",
       "    <tr>\n",
       "      <th>2</th>\n",
       "      <td>1/3/2024</td>\n",
       "      <td>148</td>\n",
       "      <td>150</td>\n",
       "      <td>-2</td>\n",
       "      <td>2</td>\n",
       "      <td>1.351351</td>\n",
       "      <td>4</td>\n",
       "      <td>NaN</td>\n",
       "      <td>NaN</td>\n",
       "      <td>NaN</td>\n",
       "      <td>NaN</td>\n",
       "    </tr>\n",
       "    <tr>\n",
       "      <th>3</th>\n",
       "      <td>1/4/2024</td>\n",
       "      <td>160</td>\n",
       "      <td>160</td>\n",
       "      <td>0</td>\n",
       "      <td>0</td>\n",
       "      <td>0.000000</td>\n",
       "      <td>0</td>\n",
       "      <td>NaN</td>\n",
       "      <td>NaN</td>\n",
       "      <td>NaN</td>\n",
       "      <td>NaN</td>\n",
       "    </tr>\n",
       "    <tr>\n",
       "      <th>4</th>\n",
       "      <td>1/5/2024</td>\n",
       "      <td>152</td>\n",
       "      <td>150</td>\n",
       "      <td>2</td>\n",
       "      <td>2</td>\n",
       "      <td>1.315789</td>\n",
       "      <td>4</td>\n",
       "      <td>NaN</td>\n",
       "      <td>NaN</td>\n",
       "      <td>NaN</td>\n",
       "      <td>NaN</td>\n",
       "    </tr>\n",
       "  </tbody>\n",
       "</table>\n",
       "</div>"
      ],
      "text/plain": [
       "       Date  Bread_Sales (Loaves)  Bread_Forecst (Loaves)  Error  \\\n",
       "0  1/1/2024                   150                     155     -5   \n",
       "1  1/2/2024                   155                     150      5   \n",
       "2  1/3/2024                   148                     150     -2   \n",
       "3  1/4/2024                   160                     160      0   \n",
       "4  1/5/2024                   152                     150      2   \n",
       "\n",
       "   Absolute Error  Percentage Error  Squared Error      MAPE       MAD  \\\n",
       "0               5          3.333333             25  1.799308  1.799308   \n",
       "1               5          3.225806             25       NaN       NaN   \n",
       "2               2          1.351351              4       NaN       NaN   \n",
       "3               0          0.000000              0       NaN       NaN   \n",
       "4               2          1.315789              4       NaN       NaN   \n",
       "\n",
       "   Forecast Bias   Variance  \n",
       "0            0.8  12.466667  \n",
       "1            NaN        NaN  \n",
       "2            NaN        NaN  \n",
       "3            NaN        NaN  \n",
       "4            NaN        NaN  "
      ]
     },
     "execution_count": 45,
     "metadata": {},
     "output_type": "execute_result"
    }
   ],
   "source": [
    "bread.head()"
   ]
  },
  {
   "cell_type": "markdown",
   "metadata": {},
   "source": [
    "Once the metrics are calculated and added to the dataframe, we can analyze the forecast accuracy and demand variability for the respective product. \n",
    "\n",
    "We can see that the MAPE value for the Bread forecast is pretty low, which indicates that the forecast for Bread is off by around 1.8%, suggesting that it's an accurate forecast."
   ]
  },
  {
   "cell_type": "markdown",
   "metadata": {},
   "source": [
    "BANANA"
   ]
  },
  {
   "cell_type": "code",
   "execution_count": 46,
   "metadata": {},
   "outputs": [
    {
     "data": {
      "text/html": [
       "<div>\n",
       "<style scoped>\n",
       "    .dataframe tbody tr th:only-of-type {\n",
       "        vertical-align: middle;\n",
       "    }\n",
       "\n",
       "    .dataframe tbody tr th {\n",
       "        vertical-align: top;\n",
       "    }\n",
       "\n",
       "    .dataframe thead th {\n",
       "        text-align: right;\n",
       "    }\n",
       "</style>\n",
       "<table border=\"1\" class=\"dataframe\">\n",
       "  <thead>\n",
       "    <tr style=\"text-align: right;\">\n",
       "      <th></th>\n",
       "      <th>Date</th>\n",
       "      <th>Bananas_Sales (Pounds)</th>\n",
       "      <th>Bananas_Forecast (Pounds)</th>\n",
       "    </tr>\n",
       "  </thead>\n",
       "  <tbody>\n",
       "    <tr>\n",
       "      <th>0</th>\n",
       "      <td>1/1/2024</td>\n",
       "      <td>300</td>\n",
       "      <td>310</td>\n",
       "    </tr>\n",
       "    <tr>\n",
       "      <th>1</th>\n",
       "      <td>1/2/2024</td>\n",
       "      <td>310</td>\n",
       "      <td>300</td>\n",
       "    </tr>\n",
       "    <tr>\n",
       "      <th>2</th>\n",
       "      <td>1/3/2024</td>\n",
       "      <td>295</td>\n",
       "      <td>300</td>\n",
       "    </tr>\n",
       "    <tr>\n",
       "      <th>3</th>\n",
       "      <td>1/4/2024</td>\n",
       "      <td>280</td>\n",
       "      <td>275</td>\n",
       "    </tr>\n",
       "    <tr>\n",
       "      <th>4</th>\n",
       "      <td>1/5/2024</td>\n",
       "      <td>290</td>\n",
       "      <td>295</td>\n",
       "    </tr>\n",
       "  </tbody>\n",
       "</table>\n",
       "</div>"
      ],
      "text/plain": [
       "       Date  Bananas_Sales (Pounds)  Bananas_Forecast (Pounds)\n",
       "0  1/1/2024                     300                        310\n",
       "1  1/2/2024                     310                        300\n",
       "2  1/3/2024                     295                        300\n",
       "3  1/4/2024                     280                        275\n",
       "4  1/5/2024                     290                        295"
      ]
     },
     "execution_count": 46,
     "metadata": {},
     "output_type": "execute_result"
    }
   ],
   "source": [
    "bananas=pd.DataFrame()\n",
    "bananas=pd.concat([bananas,df['Date'],df['Bananas_Sales (Pounds)'],df['Bananas_Forecast (Pounds)']],axis=1)\n",
    "bananas.head()\n"
   ]
  },
  {
   "cell_type": "code",
   "execution_count": 47,
   "metadata": {},
   "outputs": [
    {
     "data": {
      "text/plain": [
       "0    300\n",
       "1    310\n",
       "2    295\n",
       "3    280\n",
       "4    290\n",
       "Name: Bananas_Sales (Pounds), dtype: int64"
      ]
     },
     "execution_count": 47,
     "metadata": {},
     "output_type": "execute_result"
    }
   ],
   "source": [
    "bananas_actual=bananas['Bananas_Sales (Pounds)']\n",
    "bananas_actual.head()"
   ]
  },
  {
   "cell_type": "code",
   "execution_count": 48,
   "metadata": {},
   "outputs": [
    {
     "data": {
      "text/plain": [
       "0    310\n",
       "1    300\n",
       "2    300\n",
       "3    275\n",
       "4    295\n",
       "Name: Bananas_Forecast (Pounds), dtype: int64"
      ]
     },
     "execution_count": 48,
     "metadata": {},
     "output_type": "execute_result"
    }
   ],
   "source": [
    "bananas_fore=bananas['Bananas_Forecast (Pounds)']\n",
    "bananas_fore.head()"
   ]
  },
  {
   "cell_type": "code",
   "execution_count": 49,
   "metadata": {},
   "outputs": [
    {
     "name": "stdout",
     "output_type": "stream",
     "text": [
      "[-10, 10, -5, 5, -5, -5, -10, -5, 10, -5, -5, -10, 10, -5, 5, -5, -5, -10, -5, 10, -5, -5, -10, 10, -5, 5, -5, -5, -10, -5]\n",
      "[10, 10, 5, 5, 5, 5, 10, 5, 10, 5, 5, 10, 10, 5, 5, 5, 5, 10, 5, 10, 5, 5, 10, 10, 5, 5, 5, 5, 10, 5]\n",
      "[3.3333333333333335, 3.225806451612903, 1.694915254237288, 1.7857142857142856, 1.7241379310344827, 1.7543859649122806, 3.3333333333333335, 1.5625, 3.225806451612903, 1.694915254237288, 1.7857142857142856, 3.3333333333333335, 3.225806451612903, 1.694915254237288, 1.7857142857142856, 1.7241379310344827, 1.7543859649122806, 3.3333333333333335, 1.5625, 3.225806451612903, 1.694915254237288, 1.7857142857142856, 3.3333333333333335, 3.225806451612903, 1.694915254237288, 1.7857142857142856, 1.7241379310344827, 1.7543859649122806, 3.3333333333333335, 1.5625]\n",
      "[100, 100, 25, 25, 25, 25, 100, 25, 100, 25, 25, 100, 100, 25, 25, 25, 25, 100, 25, 100, 25, 25, 100, 100, 25, 25, 25, 25, 100, 25]\n"
     ]
    }
   ],
   "source": [
    "error=[]\n",
    "abs_error=[]\n",
    "perc_error=[]\n",
    "sq_error=[]\n",
    "for i in range(len(bananas_actual)):\n",
    "    ele1=bananas_actual[i]-bananas_fore[i]\n",
    "    ele2=int(math.fabs(ele1))\n",
    "    ele3=(ele2/bananas_actual[i])*100\n",
    "    ele4=ele1**2\n",
    "    error.append(ele1)\n",
    "    abs_error.append(ele2)\n",
    "    perc_error.append(ele3)\n",
    "    sq_error.append(ele4)\n",
    "\n",
    "print(error)\n",
    "print(abs_error)\n",
    "print(perc_error)\n",
    "print(sq_error)"
   ]
  },
  {
   "cell_type": "code",
   "execution_count": 50,
   "metadata": {},
   "outputs": [],
   "source": [
    "df1=pd.DataFrame(error)\n",
    "df2=pd.DataFrame(abs_error)\n",
    "df3=pd.DataFrame(perc_error)\n",
    "df4=pd.DataFrame(sq_error)\n"
   ]
  },
  {
   "cell_type": "code",
   "execution_count": 51,
   "metadata": {},
   "outputs": [],
   "source": [
    "bananas=pd.concat([bananas,df1,df2,df3,df4,],axis=1)"
   ]
  },
  {
   "cell_type": "code",
   "execution_count": 52,
   "metadata": {},
   "outputs": [],
   "source": [
    "bananas.columns=['Date','Bananas_Sales (Pounds)','Bananas_Forecast (Pounds)','Error','Absolute Error','Percentage Error','Squared Error' ]"
   ]
  },
  {
   "cell_type": "code",
   "execution_count": 53,
   "metadata": {},
   "outputs": [
    {
     "data": {
      "text/html": [
       "<div>\n",
       "<style scoped>\n",
       "    .dataframe tbody tr th:only-of-type {\n",
       "        vertical-align: middle;\n",
       "    }\n",
       "\n",
       "    .dataframe tbody tr th {\n",
       "        vertical-align: top;\n",
       "    }\n",
       "\n",
       "    .dataframe thead th {\n",
       "        text-align: right;\n",
       "    }\n",
       "</style>\n",
       "<table border=\"1\" class=\"dataframe\">\n",
       "  <thead>\n",
       "    <tr style=\"text-align: right;\">\n",
       "      <th></th>\n",
       "      <th>Date</th>\n",
       "      <th>Bananas_Sales (Pounds)</th>\n",
       "      <th>Bananas_Forecast (Pounds)</th>\n",
       "      <th>Error</th>\n",
       "      <th>Absolute Error</th>\n",
       "      <th>Percentage Error</th>\n",
       "      <th>Squared Error</th>\n",
       "    </tr>\n",
       "  </thead>\n",
       "  <tbody>\n",
       "    <tr>\n",
       "      <th>0</th>\n",
       "      <td>1/1/2024</td>\n",
       "      <td>300</td>\n",
       "      <td>310</td>\n",
       "      <td>-10</td>\n",
       "      <td>10</td>\n",
       "      <td>3.333333</td>\n",
       "      <td>100</td>\n",
       "    </tr>\n",
       "    <tr>\n",
       "      <th>1</th>\n",
       "      <td>1/2/2024</td>\n",
       "      <td>310</td>\n",
       "      <td>300</td>\n",
       "      <td>10</td>\n",
       "      <td>10</td>\n",
       "      <td>3.225806</td>\n",
       "      <td>100</td>\n",
       "    </tr>\n",
       "    <tr>\n",
       "      <th>2</th>\n",
       "      <td>1/3/2024</td>\n",
       "      <td>295</td>\n",
       "      <td>300</td>\n",
       "      <td>-5</td>\n",
       "      <td>5</td>\n",
       "      <td>1.694915</td>\n",
       "      <td>25</td>\n",
       "    </tr>\n",
       "    <tr>\n",
       "      <th>3</th>\n",
       "      <td>1/4/2024</td>\n",
       "      <td>280</td>\n",
       "      <td>275</td>\n",
       "      <td>5</td>\n",
       "      <td>5</td>\n",
       "      <td>1.785714</td>\n",
       "      <td>25</td>\n",
       "    </tr>\n",
       "    <tr>\n",
       "      <th>4</th>\n",
       "      <td>1/5/2024</td>\n",
       "      <td>290</td>\n",
       "      <td>295</td>\n",
       "      <td>-5</td>\n",
       "      <td>5</td>\n",
       "      <td>1.724138</td>\n",
       "      <td>25</td>\n",
       "    </tr>\n",
       "  </tbody>\n",
       "</table>\n",
       "</div>"
      ],
      "text/plain": [
       "       Date  Bananas_Sales (Pounds)  Bananas_Forecast (Pounds)  Error  \\\n",
       "0  1/1/2024                     300                        310    -10   \n",
       "1  1/2/2024                     310                        300     10   \n",
       "2  1/3/2024                     295                        300     -5   \n",
       "3  1/4/2024                     280                        275      5   \n",
       "4  1/5/2024                     290                        295     -5   \n",
       "\n",
       "   Absolute Error  Percentage Error  Squared Error  \n",
       "0              10          3.333333            100  \n",
       "1              10          3.225806            100  \n",
       "2               5          1.694915             25  \n",
       "3               5          1.785714             25  \n",
       "4               5          1.724138             25  "
      ]
     },
     "execution_count": 53,
     "metadata": {},
     "output_type": "execute_result"
    }
   ],
   "source": [
    "bananas.head()"
   ]
  },
  {
   "cell_type": "code",
   "execution_count": 54,
   "metadata": {},
   "outputs": [
    {
     "name": "stdout",
     "output_type": "stream",
     "text": [
      "[3.3333333333333335, 3.225806451612903, 1.694915254237288, 1.7857142857142856, 1.7241379310344827, 1.7543859649122806, 3.3333333333333335, 1.5625, 3.225806451612903, 1.694915254237288, 1.7857142857142856, 3.3333333333333335, 3.225806451612903, 1.694915254237288, 1.7857142857142856, 1.7241379310344827, 1.7543859649122806, 3.3333333333333335, 1.5625, 3.225806451612903, 1.694915254237288, 1.7857142857142856, 3.3333333333333335, 3.225806451612903, 1.694915254237288, 1.7857142857142856, 1.7241379310344827, 1.7543859649122806, 3.3333333333333335, 1.5625]\n"
     ]
    }
   ],
   "source": [
    "mape_val=[]\n",
    "for i in range(len(bananas_actual)):\n",
    "    ele=math.fabs((bananas_actual[i]-bananas_fore[i])/bananas_actual[i])*100\n",
    "    mape_val.append(ele)\n",
    "print(mape_val)"
   ]
  },
  {
   "cell_type": "code",
   "execution_count": 55,
   "metadata": {},
   "outputs": [
    {
     "name": "stdout",
     "output_type": "stream",
     "text": [
      "2.2885083881887556\n"
     ]
    }
   ],
   "source": [
    "Sum=0\n",
    "for i in mape_val:\n",
    "    Sum+=i\n",
    "mape=Sum/len(mape_val)\n",
    "print(mape)"
   ]
  },
  {
   "cell_type": "code",
   "execution_count": 56,
   "metadata": {},
   "outputs": [],
   "source": [
    "MAPE=[mape]\n",
    "df5=pd.DataFrame(MAPE)\n",
    "bananas=pd.concat([bananas,df5],axis=1)"
   ]
  },
  {
   "cell_type": "code",
   "execution_count": 57,
   "metadata": {},
   "outputs": [
    {
     "name": "stdout",
     "output_type": "stream",
     "text": [
      "[10.0, 10.0, 5.0, 5.0, 5.0, 5.0, 10.0, 5.0, 10.0, 5.0, 5.0, 10.0, 10.0, 5.0, 5.0, 5.0, 5.0, 10.0, 5.0, 10.0, 5.0, 5.0, 10.0, 10.0, 5.0, 5.0, 5.0, 5.0, 10.0, 5.0]\n"
     ]
    }
   ],
   "source": [
    "mad_val=[]\n",
    "for i in range(len(bananas_actual)):\n",
    "    ele=math.fabs(bananas_actual[i]-bananas_fore[i])\n",
    "    mad_val.append(ele)\n",
    "print(mad_val)"
   ]
  },
  {
   "cell_type": "code",
   "execution_count": 58,
   "metadata": {},
   "outputs": [
    {
     "name": "stdout",
     "output_type": "stream",
     "text": [
      "2.2885083881887556\n"
     ]
    }
   ],
   "source": [
    "summ=0\n",
    "for i in mad_val:\n",
    "    summ+=i\n",
    "mad=Sum/len(mad_val)\n",
    "print(mad)"
   ]
  },
  {
   "cell_type": "code",
   "execution_count": 59,
   "metadata": {},
   "outputs": [],
   "source": [
    "MAD=[mad]\n",
    "df6=pd.DataFrame(MAD)\n",
    "bananas=pd.concat([bananas,df6],axis=1)"
   ]
  },
  {
   "cell_type": "code",
   "execution_count": 60,
   "metadata": {},
   "outputs": [
    {
     "name": "stdout",
     "output_type": "stream",
     "text": [
      "[10, -10, 5, -5, 5, 5, 10, 5, -10, 5, 5, 10, -10, 5, -5, 5, 5, 10, 5, -10, 5, 5, 10, -10, 5, -5, 5, 5, 10, 5]\n"
     ]
    }
   ],
   "source": [
    "fore_val=[]\n",
    "for i in range(len(bananas_fore)):\n",
    "    ele=bananas_fore[i]-bananas_actual[i]\n",
    "    fore_val.append(ele)\n",
    "print(fore_val)"
   ]
  },
  {
   "cell_type": "code",
   "execution_count": 61,
   "metadata": {},
   "outputs": [
    {
     "name": "stdout",
     "output_type": "stream",
     "text": [
      "2.5\n"
     ]
    }
   ],
   "source": [
    "ssum=0\n",
    "for i in fore_val:\n",
    "    ssum+=i\n",
    "fore=ssum/len(fore_val)\n",
    "print(fore)"
   ]
  },
  {
   "cell_type": "code",
   "execution_count": 62,
   "metadata": {},
   "outputs": [],
   "source": [
    "BIAS=[fore]\n",
    "df7=pd.DataFrame(BIAS)\n",
    "bananas=pd.concat([bananas,df7],axis=1)"
   ]
  },
  {
   "cell_type": "code",
   "execution_count": 63,
   "metadata": {},
   "outputs": [
    {
     "name": "stdout",
     "output_type": "stream",
     "text": [
      "52.5\n"
     ]
    }
   ],
   "source": [
    "sse=bananas[\"Squared Error\"]\n",
    "suum=0\n",
    "for i in sse:\n",
    "    suum+=i\n",
    "var=suum/len(sse)\n",
    "print(var)"
   ]
  },
  {
   "cell_type": "code",
   "execution_count": 64,
   "metadata": {},
   "outputs": [],
   "source": [
    "VAR=[var]\n",
    "df8=pd.DataFrame(VAR)\n",
    "bananas=pd.concat([bananas,df8],axis=1)"
   ]
  },
  {
   "cell_type": "code",
   "execution_count": 65,
   "metadata": {},
   "outputs": [],
   "source": [
    "bananas.columns=['Date','Bananas_Sales (Pounds)','Bananas_Forecast (Pounds)','Error','Absolute Error','Percentage Error','Squared Error','MAPE','MAD','Forecast Bias','Variance']"
   ]
  },
  {
   "cell_type": "code",
   "execution_count": 66,
   "metadata": {},
   "outputs": [
    {
     "data": {
      "text/html": [
       "<div>\n",
       "<style scoped>\n",
       "    .dataframe tbody tr th:only-of-type {\n",
       "        vertical-align: middle;\n",
       "    }\n",
       "\n",
       "    .dataframe tbody tr th {\n",
       "        vertical-align: top;\n",
       "    }\n",
       "\n",
       "    .dataframe thead th {\n",
       "        text-align: right;\n",
       "    }\n",
       "</style>\n",
       "<table border=\"1\" class=\"dataframe\">\n",
       "  <thead>\n",
       "    <tr style=\"text-align: right;\">\n",
       "      <th></th>\n",
       "      <th>Date</th>\n",
       "      <th>Bananas_Sales (Pounds)</th>\n",
       "      <th>Bananas_Forecast (Pounds)</th>\n",
       "      <th>Error</th>\n",
       "      <th>Absolute Error</th>\n",
       "      <th>Percentage Error</th>\n",
       "      <th>Squared Error</th>\n",
       "      <th>MAPE</th>\n",
       "      <th>MAD</th>\n",
       "      <th>Forecast Bias</th>\n",
       "      <th>Variance</th>\n",
       "    </tr>\n",
       "  </thead>\n",
       "  <tbody>\n",
       "    <tr>\n",
       "      <th>0</th>\n",
       "      <td>1/1/2024</td>\n",
       "      <td>300</td>\n",
       "      <td>310</td>\n",
       "      <td>-10</td>\n",
       "      <td>10</td>\n",
       "      <td>3.333333</td>\n",
       "      <td>100</td>\n",
       "      <td>2.288508</td>\n",
       "      <td>2.288508</td>\n",
       "      <td>2.5</td>\n",
       "      <td>52.5</td>\n",
       "    </tr>\n",
       "    <tr>\n",
       "      <th>1</th>\n",
       "      <td>1/2/2024</td>\n",
       "      <td>310</td>\n",
       "      <td>300</td>\n",
       "      <td>10</td>\n",
       "      <td>10</td>\n",
       "      <td>3.225806</td>\n",
       "      <td>100</td>\n",
       "      <td>NaN</td>\n",
       "      <td>NaN</td>\n",
       "      <td>NaN</td>\n",
       "      <td>NaN</td>\n",
       "    </tr>\n",
       "    <tr>\n",
       "      <th>2</th>\n",
       "      <td>1/3/2024</td>\n",
       "      <td>295</td>\n",
       "      <td>300</td>\n",
       "      <td>-5</td>\n",
       "      <td>5</td>\n",
       "      <td>1.694915</td>\n",
       "      <td>25</td>\n",
       "      <td>NaN</td>\n",
       "      <td>NaN</td>\n",
       "      <td>NaN</td>\n",
       "      <td>NaN</td>\n",
       "    </tr>\n",
       "    <tr>\n",
       "      <th>3</th>\n",
       "      <td>1/4/2024</td>\n",
       "      <td>280</td>\n",
       "      <td>275</td>\n",
       "      <td>5</td>\n",
       "      <td>5</td>\n",
       "      <td>1.785714</td>\n",
       "      <td>25</td>\n",
       "      <td>NaN</td>\n",
       "      <td>NaN</td>\n",
       "      <td>NaN</td>\n",
       "      <td>NaN</td>\n",
       "    </tr>\n",
       "    <tr>\n",
       "      <th>4</th>\n",
       "      <td>1/5/2024</td>\n",
       "      <td>290</td>\n",
       "      <td>295</td>\n",
       "      <td>-5</td>\n",
       "      <td>5</td>\n",
       "      <td>1.724138</td>\n",
       "      <td>25</td>\n",
       "      <td>NaN</td>\n",
       "      <td>NaN</td>\n",
       "      <td>NaN</td>\n",
       "      <td>NaN</td>\n",
       "    </tr>\n",
       "  </tbody>\n",
       "</table>\n",
       "</div>"
      ],
      "text/plain": [
       "       Date  Bananas_Sales (Pounds)  Bananas_Forecast (Pounds)  Error  \\\n",
       "0  1/1/2024                     300                        310    -10   \n",
       "1  1/2/2024                     310                        300     10   \n",
       "2  1/3/2024                     295                        300     -5   \n",
       "3  1/4/2024                     280                        275      5   \n",
       "4  1/5/2024                     290                        295     -5   \n",
       "\n",
       "   Absolute Error  Percentage Error  Squared Error      MAPE       MAD  \\\n",
       "0              10          3.333333            100  2.288508  2.288508   \n",
       "1              10          3.225806            100       NaN       NaN   \n",
       "2               5          1.694915             25       NaN       NaN   \n",
       "3               5          1.785714             25       NaN       NaN   \n",
       "4               5          1.724138             25       NaN       NaN   \n",
       "\n",
       "   Forecast Bias  Variance  \n",
       "0            2.5      52.5  \n",
       "1            NaN       NaN  \n",
       "2            NaN       NaN  \n",
       "3            NaN       NaN  \n",
       "4            NaN       NaN  "
      ]
     },
     "execution_count": 66,
     "metadata": {},
     "output_type": "execute_result"
    }
   ],
   "source": [
    "bananas.head()"
   ]
  },
  {
   "cell_type": "markdown",
   "metadata": {},
   "source": [
    "Once the metrics are calculated and added to the dataframe, we can analyze the forecast accuracy and demand variability for the respective product. \n",
    "\n",
    "We can see that the MAPE value for the Bananas forecast is pretty low, which indicates that the forecast for Bananas is off by around 2.3%, suggesting that it's an accurate forecast, upto a certain extent"
   ]
  },
  {
   "cell_type": "markdown",
   "metadata": {},
   "source": [
    "CHICKEN BREAST"
   ]
  },
  {
   "cell_type": "code",
   "execution_count": 88,
   "metadata": {},
   "outputs": [
    {
     "data": {
      "text/html": [
       "<div>\n",
       "<style scoped>\n",
       "    .dataframe tbody tr th:only-of-type {\n",
       "        vertical-align: middle;\n",
       "    }\n",
       "\n",
       "    .dataframe tbody tr th {\n",
       "        vertical-align: top;\n",
       "    }\n",
       "\n",
       "    .dataframe thead th {\n",
       "        text-align: right;\n",
       "    }\n",
       "</style>\n",
       "<table border=\"1\" class=\"dataframe\">\n",
       "  <thead>\n",
       "    <tr style=\"text-align: right;\">\n",
       "      <th></th>\n",
       "      <th>Date</th>\n",
       "      <th>Chicken_Sales (Pounds)</th>\n",
       "      <th>Chicken_Forecast (Pounds)</th>\n",
       "    </tr>\n",
       "  </thead>\n",
       "  <tbody>\n",
       "    <tr>\n",
       "      <th>0</th>\n",
       "      <td>1/1/2024</td>\n",
       "      <td>180</td>\n",
       "      <td>175</td>\n",
       "    </tr>\n",
       "    <tr>\n",
       "      <th>1</th>\n",
       "      <td>1/2/2024</td>\n",
       "      <td>175</td>\n",
       "      <td>170</td>\n",
       "    </tr>\n",
       "    <tr>\n",
       "      <th>2</th>\n",
       "      <td>1/3/2024</td>\n",
       "      <td>190</td>\n",
       "      <td>185</td>\n",
       "    </tr>\n",
       "    <tr>\n",
       "      <th>3</th>\n",
       "      <td>1/4/2024</td>\n",
       "      <td>185</td>\n",
       "      <td>190</td>\n",
       "    </tr>\n",
       "    <tr>\n",
       "      <th>4</th>\n",
       "      <td>1/5/2024</td>\n",
       "      <td>170</td>\n",
       "      <td>165</td>\n",
       "    </tr>\n",
       "  </tbody>\n",
       "</table>\n",
       "</div>"
      ],
      "text/plain": [
       "       Date  Chicken_Sales (Pounds)  Chicken_Forecast (Pounds)\n",
       "0  1/1/2024                     180                        175\n",
       "1  1/2/2024                     175                        170\n",
       "2  1/3/2024                     190                        185\n",
       "3  1/4/2024                     185                        190\n",
       "4  1/5/2024                     170                        165"
      ]
     },
     "execution_count": 88,
     "metadata": {},
     "output_type": "execute_result"
    }
   ],
   "source": [
    "chic=pd.DataFrame()\n",
    "chic=pd.concat([chic,df['Date'],df['Chicken_Sales (Pounds)'],df['Chicken_Forecast (Pounds)']],axis=1)\n",
    "chic.head()\n"
   ]
  },
  {
   "cell_type": "code",
   "execution_count": 89,
   "metadata": {},
   "outputs": [
    {
     "data": {
      "text/plain": [
       "0    180\n",
       "1    175\n",
       "2    190\n",
       "3    185\n",
       "4    170\n",
       "Name: Chicken_Sales (Pounds), dtype: int64"
      ]
     },
     "execution_count": 89,
     "metadata": {},
     "output_type": "execute_result"
    }
   ],
   "source": [
    "chic_actual=chic['Chicken_Sales (Pounds)']\n",
    "chic_actual.head()"
   ]
  },
  {
   "cell_type": "code",
   "execution_count": 90,
   "metadata": {},
   "outputs": [
    {
     "data": {
      "text/plain": [
       "0    175\n",
       "1    170\n",
       "2    185\n",
       "3    190\n",
       "4    165\n",
       "Name: Chicken_Forecast (Pounds), dtype: int64"
      ]
     },
     "execution_count": 90,
     "metadata": {},
     "output_type": "execute_result"
    }
   ],
   "source": [
    "chic_fore=chic['Chicken_Forecast (Pounds)']\n",
    "chic_fore.head()"
   ]
  },
  {
   "cell_type": "code",
   "execution_count": 91,
   "metadata": {},
   "outputs": [
    {
     "name": "stdout",
     "output_type": "stream",
     "text": [
      "[5, 5, 5, -5, 5, 0, -5, -5, 5, 5, -5, 5, 0, -5, -5, 5, 5, -5, 5, 0, -5, -5, 5, 5, -5, 5, 0, -5, -5, 5]\n",
      "[5, 5, 5, 5, 5, 0, 5, 5, 5, 5, 5, 5, 0, 5, 5, 5, 5, 5, 5, 0, 5, 5, 5, 5, 5, 5, 0, 5, 5, 5]\n",
      "[2.7777777777777777, 2.857142857142857, 2.631578947368421, 2.7027027027027026, 2.941176470588235, 0.0, 3.3333333333333335, 2.7777777777777777, 2.857142857142857, 2.631578947368421, 2.7027027027027026, 2.941176470588235, 0.0, 3.3333333333333335, 2.7777777777777777, 2.857142857142857, 2.631578947368421, 2.7027027027027026, 2.941176470588235, 0.0, 3.3333333333333335, 2.7777777777777777, 2.857142857142857, 2.631578947368421, 2.7027027027027026, 2.941176470588235, 0.0, 3.3333333333333335, 2.7777777777777777, 2.857142857142857]\n",
      "[25, 25, 25, 25, 25, 0, 25, 25, 25, 25, 25, 25, 0, 25, 25, 25, 25, 25, 25, 0, 25, 25, 25, 25, 25, 25, 0, 25, 25, 25]\n"
     ]
    }
   ],
   "source": [
    "error=[]\n",
    "abs_error=[]\n",
    "perc_error=[]\n",
    "sq_error=[]\n",
    "for i in range(len(chic_actual)):\n",
    "    ele1=chic_actual[i]-chic_fore[i]\n",
    "    ele2=int(math.fabs(ele1))\n",
    "    ele3=(ele2/chic_actual[i])*100\n",
    "    ele4=ele1**2\n",
    "    error.append(ele1)\n",
    "    abs_error.append(ele2)\n",
    "    perc_error.append(ele3)\n",
    "    sq_error.append(ele4)\n",
    "\n",
    "print(error)\n",
    "print(abs_error)\n",
    "print(perc_error)\n",
    "print(sq_error)"
   ]
  },
  {
   "cell_type": "code",
   "execution_count": 92,
   "metadata": {},
   "outputs": [],
   "source": [
    "df1=pd.DataFrame(error)\n",
    "df2=pd.DataFrame(abs_error)\n",
    "df3=pd.DataFrame(perc_error)\n",
    "df4=pd.DataFrame(sq_error)\n"
   ]
  },
  {
   "cell_type": "code",
   "execution_count": 93,
   "metadata": {},
   "outputs": [],
   "source": [
    "chic=pd.concat([chic,df1,df2,df3,df4,],axis=1)"
   ]
  },
  {
   "cell_type": "code",
   "execution_count": 94,
   "metadata": {},
   "outputs": [],
   "source": [
    "chic.columns=['Date','Chicken_Sales (Pounds)','Chicken_Forecast (Pounds)','Error','Absolute Error','Percentage Error','Squared Error' ]"
   ]
  },
  {
   "cell_type": "code",
   "execution_count": 95,
   "metadata": {},
   "outputs": [
    {
     "data": {
      "text/html": [
       "<div>\n",
       "<style scoped>\n",
       "    .dataframe tbody tr th:only-of-type {\n",
       "        vertical-align: middle;\n",
       "    }\n",
       "\n",
       "    .dataframe tbody tr th {\n",
       "        vertical-align: top;\n",
       "    }\n",
       "\n",
       "    .dataframe thead th {\n",
       "        text-align: right;\n",
       "    }\n",
       "</style>\n",
       "<table border=\"1\" class=\"dataframe\">\n",
       "  <thead>\n",
       "    <tr style=\"text-align: right;\">\n",
       "      <th></th>\n",
       "      <th>Date</th>\n",
       "      <th>Chicken_Sales (Pounds)</th>\n",
       "      <th>Chicken_Forecast (Pounds)</th>\n",
       "      <th>Error</th>\n",
       "      <th>Absolute Error</th>\n",
       "      <th>Percentage Error</th>\n",
       "      <th>Squared Error</th>\n",
       "    </tr>\n",
       "  </thead>\n",
       "  <tbody>\n",
       "    <tr>\n",
       "      <th>0</th>\n",
       "      <td>1/1/2024</td>\n",
       "      <td>180</td>\n",
       "      <td>175</td>\n",
       "      <td>5</td>\n",
       "      <td>5</td>\n",
       "      <td>2.777778</td>\n",
       "      <td>25</td>\n",
       "    </tr>\n",
       "    <tr>\n",
       "      <th>1</th>\n",
       "      <td>1/2/2024</td>\n",
       "      <td>175</td>\n",
       "      <td>170</td>\n",
       "      <td>5</td>\n",
       "      <td>5</td>\n",
       "      <td>2.857143</td>\n",
       "      <td>25</td>\n",
       "    </tr>\n",
       "    <tr>\n",
       "      <th>2</th>\n",
       "      <td>1/3/2024</td>\n",
       "      <td>190</td>\n",
       "      <td>185</td>\n",
       "      <td>5</td>\n",
       "      <td>5</td>\n",
       "      <td>2.631579</td>\n",
       "      <td>25</td>\n",
       "    </tr>\n",
       "    <tr>\n",
       "      <th>3</th>\n",
       "      <td>1/4/2024</td>\n",
       "      <td>185</td>\n",
       "      <td>190</td>\n",
       "      <td>-5</td>\n",
       "      <td>5</td>\n",
       "      <td>2.702703</td>\n",
       "      <td>25</td>\n",
       "    </tr>\n",
       "    <tr>\n",
       "      <th>4</th>\n",
       "      <td>1/5/2024</td>\n",
       "      <td>170</td>\n",
       "      <td>165</td>\n",
       "      <td>5</td>\n",
       "      <td>5</td>\n",
       "      <td>2.941176</td>\n",
       "      <td>25</td>\n",
       "    </tr>\n",
       "  </tbody>\n",
       "</table>\n",
       "</div>"
      ],
      "text/plain": [
       "       Date  Chicken_Sales (Pounds)  Chicken_Forecast (Pounds)  Error  \\\n",
       "0  1/1/2024                     180                        175      5   \n",
       "1  1/2/2024                     175                        170      5   \n",
       "2  1/3/2024                     190                        185      5   \n",
       "3  1/4/2024                     185                        190     -5   \n",
       "4  1/5/2024                     170                        165      5   \n",
       "\n",
       "   Absolute Error  Percentage Error  Squared Error  \n",
       "0               5          2.777778             25  \n",
       "1               5          2.857143             25  \n",
       "2               5          2.631579             25  \n",
       "3               5          2.702703             25  \n",
       "4               5          2.941176             25  "
      ]
     },
     "execution_count": 95,
     "metadata": {},
     "output_type": "execute_result"
    }
   ],
   "source": [
    "chic.head()"
   ]
  },
  {
   "cell_type": "code",
   "execution_count": 96,
   "metadata": {},
   "outputs": [
    {
     "name": "stdout",
     "output_type": "stream",
     "text": [
      "[2.7777777777777777, 2.857142857142857, 2.631578947368421, 2.7027027027027026, 2.941176470588235, 0.0, 3.3333333333333335, 2.7777777777777777, 2.857142857142857, 2.631578947368421, 2.7027027027027026, 2.941176470588235, 0.0, 3.3333333333333335, 2.7777777777777777, 2.857142857142857, 2.631578947368421, 2.7027027027027026, 2.941176470588235, 0.0, 3.3333333333333335, 2.7777777777777777, 2.857142857142857, 2.631578947368421, 2.7027027027027026, 2.941176470588235, 0.0, 3.3333333333333335, 2.7777777777777777, 2.857142857142857]\n"
     ]
    }
   ],
   "source": [
    "mape_val=[]\n",
    "for i in range(len(chic_actual)):\n",
    "    ele=math.fabs((chic_actual[i]-chic_fore[i])/chic_actual[i])*100\n",
    "    mape_val.append(ele)\n",
    "print(mape_val)"
   ]
  },
  {
   "cell_type": "code",
   "execution_count": 97,
   "metadata": {},
   "outputs": [
    {
     "name": "stdout",
     "output_type": "stream",
     "text": [
      "2.4869922996857974\n"
     ]
    }
   ],
   "source": [
    "Sum=0\n",
    "for i in mape_val:\n",
    "    Sum+=i\n",
    "mape=Sum/len(mape_val)\n",
    "print(mape)"
   ]
  },
  {
   "cell_type": "code",
   "execution_count": 98,
   "metadata": {},
   "outputs": [],
   "source": [
    "MAPE=[mape]\n",
    "df5=pd.DataFrame(MAPE)\n",
    "chic=pd.concat([chic,df5],axis=1)"
   ]
  },
  {
   "cell_type": "code",
   "execution_count": 99,
   "metadata": {},
   "outputs": [
    {
     "name": "stdout",
     "output_type": "stream",
     "text": [
      "[5.0, 5.0, 5.0, 5.0, 5.0, 0.0, 5.0, 5.0, 5.0, 5.0, 5.0, 5.0, 0.0, 5.0, 5.0, 5.0, 5.0, 5.0, 5.0, 0.0, 5.0, 5.0, 5.0, 5.0, 5.0, 5.0, 0.0, 5.0, 5.0, 5.0]\n"
     ]
    }
   ],
   "source": [
    "mad_val=[]\n",
    "for i in range(len(chic_actual)):\n",
    "    ele=math.fabs(chic_actual[i]-chic_fore[i])\n",
    "    mad_val.append(ele)\n",
    "print(mad_val)"
   ]
  },
  {
   "cell_type": "code",
   "execution_count": 100,
   "metadata": {},
   "outputs": [
    {
     "name": "stdout",
     "output_type": "stream",
     "text": [
      "2.4869922996857974\n"
     ]
    }
   ],
   "source": [
    "summ=0\n",
    "for i in mad_val:\n",
    "    summ+=i\n",
    "mad=Sum/len(mad_val)\n",
    "print(mad)"
   ]
  },
  {
   "cell_type": "code",
   "execution_count": 101,
   "metadata": {},
   "outputs": [],
   "source": [
    "MAD=[mad]\n",
    "df6=pd.DataFrame(MAD)\n",
    "chic=pd.concat([chic,df6],axis=1)"
   ]
  },
  {
   "cell_type": "code",
   "execution_count": 102,
   "metadata": {},
   "outputs": [
    {
     "name": "stdout",
     "output_type": "stream",
     "text": [
      "[-5, -5, -5, 5, -5, 0, 5, 5, -5, -5, 5, -5, 0, 5, 5, -5, -5, 5, -5, 0, 5, 5, -5, -5, 5, -5, 0, 5, 5, -5]\n"
     ]
    }
   ],
   "source": [
    "fore_val=[]\n",
    "for i in range(len(chic_fore)):\n",
    "    ele=chic_fore[i]-chic_actual[i]\n",
    "    fore_val.append(ele)\n",
    "print(fore_val)"
   ]
  },
  {
   "cell_type": "code",
   "execution_count": 103,
   "metadata": {},
   "outputs": [
    {
     "name": "stdout",
     "output_type": "stream",
     "text": [
      "-0.3333333333333333\n"
     ]
    }
   ],
   "source": [
    "ssum=0\n",
    "for i in fore_val:\n",
    "    ssum+=i\n",
    "fore=ssum/len(fore_val)\n",
    "print(fore)"
   ]
  },
  {
   "cell_type": "code",
   "execution_count": 104,
   "metadata": {},
   "outputs": [],
   "source": [
    "BIAS=[fore]\n",
    "df7=pd.DataFrame(BIAS)\n",
    "chic=pd.concat([chic,df7],axis=1)"
   ]
  },
  {
   "cell_type": "code",
   "execution_count": 105,
   "metadata": {},
   "outputs": [
    {
     "name": "stdout",
     "output_type": "stream",
     "text": [
      "21.666666666666668\n"
     ]
    }
   ],
   "source": [
    "sse=chic[\"Squared Error\"]\n",
    "suum=0\n",
    "for i in sse:\n",
    "    suum+=i\n",
    "var=suum/len(sse)\n",
    "print(var)"
   ]
  },
  {
   "cell_type": "code",
   "execution_count": 106,
   "metadata": {},
   "outputs": [],
   "source": [
    "VAR=[var]\n",
    "df8=pd.DataFrame(VAR)\n",
    "chic=pd.concat([chic,df8],axis=1)"
   ]
  },
  {
   "cell_type": "code",
   "execution_count": 138,
   "metadata": {},
   "outputs": [],
   "source": [
    "chic.columns=['Date','Chicken_Sales (Pounds)','Chicken_Forecast (Pounds)','Error','Absolute Error','Percentage Error','Squared Error','MAPE','MAD','Forecast Bias','Variance']"
   ]
  },
  {
   "cell_type": "code",
   "execution_count": 108,
   "metadata": {},
   "outputs": [
    {
     "data": {
      "text/html": [
       "<div>\n",
       "<style scoped>\n",
       "    .dataframe tbody tr th:only-of-type {\n",
       "        vertical-align: middle;\n",
       "    }\n",
       "\n",
       "    .dataframe tbody tr th {\n",
       "        vertical-align: top;\n",
       "    }\n",
       "\n",
       "    .dataframe thead th {\n",
       "        text-align: right;\n",
       "    }\n",
       "</style>\n",
       "<table border=\"1\" class=\"dataframe\">\n",
       "  <thead>\n",
       "    <tr style=\"text-align: right;\">\n",
       "      <th></th>\n",
       "      <th>Date</th>\n",
       "      <th>Chicken_Sales (Pounds)</th>\n",
       "      <th>Chicken_Forecast (Pounds)</th>\n",
       "      <th>Error</th>\n",
       "      <th>Absolute Error</th>\n",
       "      <th>Percentage Error</th>\n",
       "      <th>Squared Error</th>\n",
       "      <th>MAPE</th>\n",
       "      <th>MAD</th>\n",
       "      <th>Forecast Bias</th>\n",
       "      <th>Variance</th>\n",
       "    </tr>\n",
       "  </thead>\n",
       "  <tbody>\n",
       "    <tr>\n",
       "      <th>0</th>\n",
       "      <td>1/1/2024</td>\n",
       "      <td>180</td>\n",
       "      <td>175</td>\n",
       "      <td>5</td>\n",
       "      <td>5</td>\n",
       "      <td>2.777778</td>\n",
       "      <td>25</td>\n",
       "      <td>2.486992</td>\n",
       "      <td>2.486992</td>\n",
       "      <td>-0.333333</td>\n",
       "      <td>21.666667</td>\n",
       "    </tr>\n",
       "    <tr>\n",
       "      <th>1</th>\n",
       "      <td>1/2/2024</td>\n",
       "      <td>175</td>\n",
       "      <td>170</td>\n",
       "      <td>5</td>\n",
       "      <td>5</td>\n",
       "      <td>2.857143</td>\n",
       "      <td>25</td>\n",
       "      <td>NaN</td>\n",
       "      <td>NaN</td>\n",
       "      <td>NaN</td>\n",
       "      <td>NaN</td>\n",
       "    </tr>\n",
       "    <tr>\n",
       "      <th>2</th>\n",
       "      <td>1/3/2024</td>\n",
       "      <td>190</td>\n",
       "      <td>185</td>\n",
       "      <td>5</td>\n",
       "      <td>5</td>\n",
       "      <td>2.631579</td>\n",
       "      <td>25</td>\n",
       "      <td>NaN</td>\n",
       "      <td>NaN</td>\n",
       "      <td>NaN</td>\n",
       "      <td>NaN</td>\n",
       "    </tr>\n",
       "    <tr>\n",
       "      <th>3</th>\n",
       "      <td>1/4/2024</td>\n",
       "      <td>185</td>\n",
       "      <td>190</td>\n",
       "      <td>-5</td>\n",
       "      <td>5</td>\n",
       "      <td>2.702703</td>\n",
       "      <td>25</td>\n",
       "      <td>NaN</td>\n",
       "      <td>NaN</td>\n",
       "      <td>NaN</td>\n",
       "      <td>NaN</td>\n",
       "    </tr>\n",
       "    <tr>\n",
       "      <th>4</th>\n",
       "      <td>1/5/2024</td>\n",
       "      <td>170</td>\n",
       "      <td>165</td>\n",
       "      <td>5</td>\n",
       "      <td>5</td>\n",
       "      <td>2.941176</td>\n",
       "      <td>25</td>\n",
       "      <td>NaN</td>\n",
       "      <td>NaN</td>\n",
       "      <td>NaN</td>\n",
       "      <td>NaN</td>\n",
       "    </tr>\n",
       "  </tbody>\n",
       "</table>\n",
       "</div>"
      ],
      "text/plain": [
       "       Date  Chicken_Sales (Pounds)  Chicken_Forecast (Pounds)  Error  \\\n",
       "0  1/1/2024                     180                        175      5   \n",
       "1  1/2/2024                     175                        170      5   \n",
       "2  1/3/2024                     190                        185      5   \n",
       "3  1/4/2024                     185                        190     -5   \n",
       "4  1/5/2024                     170                        165      5   \n",
       "\n",
       "   Absolute Error  Percentage Error  Squared Error      MAPE       MAD  \\\n",
       "0               5          2.777778             25  2.486992  2.486992   \n",
       "1               5          2.857143             25       NaN       NaN   \n",
       "2               5          2.631579             25       NaN       NaN   \n",
       "3               5          2.702703             25       NaN       NaN   \n",
       "4               5          2.941176             25       NaN       NaN   \n",
       "\n",
       "   Forecast Bias   Variance  \n",
       "0      -0.333333  21.666667  \n",
       "1            NaN        NaN  \n",
       "2            NaN        NaN  \n",
       "3            NaN        NaN  \n",
       "4            NaN        NaN  "
      ]
     },
     "execution_count": 108,
     "metadata": {},
     "output_type": "execute_result"
    }
   ],
   "source": [
    "chic.head()"
   ]
  },
  {
   "cell_type": "markdown",
   "metadata": {},
   "source": [
    "Once the metrics are calculated and added to the dataframe, we can analyze the forecast accuracy and demand variability for the respective product. \n",
    "\n",
    "We can see that the MAPE value for the Chicken forecast is pretty low, which indicates that the forecast for Chicken is off by around 2.5%, suggesting that it's an accurate forecast, upto a certain extent"
   ]
  },
  {
   "cell_type": "markdown",
   "metadata": {},
   "source": [
    "TOILET PAPER"
   ]
  },
  {
   "cell_type": "code",
   "execution_count": 109,
   "metadata": {},
   "outputs": [
    {
     "data": {
      "text/html": [
       "<div>\n",
       "<style scoped>\n",
       "    .dataframe tbody tr th:only-of-type {\n",
       "        vertical-align: middle;\n",
       "    }\n",
       "\n",
       "    .dataframe tbody tr th {\n",
       "        vertical-align: top;\n",
       "    }\n",
       "\n",
       "    .dataframe thead th {\n",
       "        text-align: right;\n",
       "    }\n",
       "</style>\n",
       "<table border=\"1\" class=\"dataframe\">\n",
       "  <thead>\n",
       "    <tr style=\"text-align: right;\">\n",
       "      <th></th>\n",
       "      <th>Date</th>\n",
       "      <th>Toilet_Paper_Sales (Packs of 12 Rolls)</th>\n",
       "      <th>Toilet_Paper_Forecast (Packs of 12 Rolls)</th>\n",
       "    </tr>\n",
       "  </thead>\n",
       "  <tbody>\n",
       "    <tr>\n",
       "      <th>0</th>\n",
       "      <td>1/1/2024</td>\n",
       "      <td>100</td>\n",
       "      <td>105</td>\n",
       "    </tr>\n",
       "    <tr>\n",
       "      <th>1</th>\n",
       "      <td>1/2/2024</td>\n",
       "      <td>110</td>\n",
       "      <td>115</td>\n",
       "    </tr>\n",
       "    <tr>\n",
       "      <th>2</th>\n",
       "      <td>1/3/2024</td>\n",
       "      <td>120</td>\n",
       "      <td>125</td>\n",
       "    </tr>\n",
       "    <tr>\n",
       "      <th>3</th>\n",
       "      <td>1/4/2024</td>\n",
       "      <td>130</td>\n",
       "      <td>135</td>\n",
       "    </tr>\n",
       "    <tr>\n",
       "      <th>4</th>\n",
       "      <td>1/5/2024</td>\n",
       "      <td>105</td>\n",
       "      <td>100</td>\n",
       "    </tr>\n",
       "  </tbody>\n",
       "</table>\n",
       "</div>"
      ],
      "text/plain": [
       "       Date  Toilet_Paper_Sales (Packs of 12 Rolls)  \\\n",
       "0  1/1/2024                                     100   \n",
       "1  1/2/2024                                     110   \n",
       "2  1/3/2024                                     120   \n",
       "3  1/4/2024                                     130   \n",
       "4  1/5/2024                                     105   \n",
       "\n",
       "   Toilet_Paper_Forecast (Packs of 12 Rolls)  \n",
       "0                                        105  \n",
       "1                                        115  \n",
       "2                                        125  \n",
       "3                                        135  \n",
       "4                                        100  "
      ]
     },
     "execution_count": 109,
     "metadata": {},
     "output_type": "execute_result"
    }
   ],
   "source": [
    "tp=pd.DataFrame()\n",
    "tp=pd.concat([tp,df['Date'],df['Toilet_Paper_Sales (Packs of 12 Rolls)'],df['Toilet_Paper_Forecast (Packs of 12 Rolls)']],axis=1)\n",
    "tp.head()\n"
   ]
  },
  {
   "cell_type": "code",
   "execution_count": 112,
   "metadata": {},
   "outputs": [
    {
     "data": {
      "text/plain": [
       "0    100\n",
       "1    110\n",
       "2    120\n",
       "3    130\n",
       "4    105\n",
       "Name: Toilet_Paper_Sales (Packs of 12 Rolls), dtype: int64"
      ]
     },
     "execution_count": 112,
     "metadata": {},
     "output_type": "execute_result"
    }
   ],
   "source": [
    "tp_actual=tp['Toilet_Paper_Sales (Packs of 12 Rolls)']\n",
    "tp_actual.head()"
   ]
  },
  {
   "cell_type": "code",
   "execution_count": 113,
   "metadata": {},
   "outputs": [
    {
     "data": {
      "text/plain": [
       "0    105\n",
       "1    115\n",
       "2    125\n",
       "3    135\n",
       "4    100\n",
       "Name: Toilet_Paper_Forecast (Packs of 12 Rolls), dtype: int64"
      ]
     },
     "execution_count": 113,
     "metadata": {},
     "output_type": "execute_result"
    }
   ],
   "source": [
    "tp_fore=tp['Toilet_Paper_Forecast (Packs of 12 Rolls)']\n",
    "tp_fore.head()"
   ]
  },
  {
   "cell_type": "code",
   "execution_count": 114,
   "metadata": {},
   "outputs": [
    {
     "name": "stdout",
     "output_type": "stream",
     "text": [
      "[-5, -5, -5, -5, 5, 5, 5, 5, 5, -5, 5, -5, 5, 5, -5, -5, -5, -5, 5, 5, 5, 5, 5, -5, 5, -5, 5, 5, -5, -5]\n",
      "[5, 5, 5, 5, 5, 5, 5, 5, 5, 5, 5, 5, 5, 5, 5, 5, 5, 5, 5, 5, 5, 5, 5, 5, 5, 5, 5, 5, 5, 5]\n",
      "[5.0, 4.545454545454546, 4.166666666666666, 3.8461538461538463, 4.761904761904762, 4.3478260869565215, 4.0, 3.7037037037037033, 3.571428571428571, 4.545454545454546, 4.3478260869565215, 4.166666666666666, 4.0, 3.8461538461538463, 5.0, 4.545454545454546, 4.166666666666666, 3.8461538461538463, 4.761904761904762, 4.3478260869565215, 4.0, 3.7037037037037033, 3.571428571428571, 4.545454545454546, 4.3478260869565215, 4.166666666666666, 4.0, 3.8461538461538463, 5.0, 4.545454545454546]\n",
      "[25, 25, 25, 25, 25, 25, 25, 25, 25, 25, 25, 25, 25, 25, 25, 25, 25, 25, 25, 25, 25, 25, 25, 25, 25, 25, 25, 25, 25, 25]\n"
     ]
    }
   ],
   "source": [
    "error=[]\n",
    "abs_error=[]\n",
    "perc_error=[]\n",
    "sq_error=[]\n",
    "for i in range(len(tp_actual)):\n",
    "    ele1=tp_actual[i]-tp_fore[i]\n",
    "    ele2=int(math.fabs(ele1))\n",
    "    ele3=(ele2/tp_actual[i])*100\n",
    "    ele4=ele1**2\n",
    "    error.append(ele1)\n",
    "    abs_error.append(ele2)\n",
    "    perc_error.append(ele3)\n",
    "    sq_error.append(ele4)\n",
    "\n",
    "print(error)\n",
    "print(abs_error)\n",
    "print(perc_error)\n",
    "print(sq_error)"
   ]
  },
  {
   "cell_type": "code",
   "execution_count": 115,
   "metadata": {},
   "outputs": [],
   "source": [
    "df1=pd.DataFrame(error)\n",
    "df2=pd.DataFrame(abs_error)\n",
    "df3=pd.DataFrame(perc_error)\n",
    "df4=pd.DataFrame(sq_error)\n"
   ]
  },
  {
   "cell_type": "code",
   "execution_count": 116,
   "metadata": {},
   "outputs": [],
   "source": [
    "tp=pd.concat([tp,df1,df2,df3,df4,],axis=1)"
   ]
  },
  {
   "cell_type": "code",
   "execution_count": 117,
   "metadata": {},
   "outputs": [],
   "source": [
    "tp.columns=['Date','Toiler_Paper_Sales (Packs of 12 Rolls)','Toilet_Paper_Forecast (Packs of 12 Rolls)','Error','Absolute Error','Percentage Error','Squared Error' ]"
   ]
  },
  {
   "cell_type": "code",
   "execution_count": 118,
   "metadata": {},
   "outputs": [
    {
     "data": {
      "text/html": [
       "<div>\n",
       "<style scoped>\n",
       "    .dataframe tbody tr th:only-of-type {\n",
       "        vertical-align: middle;\n",
       "    }\n",
       "\n",
       "    .dataframe tbody tr th {\n",
       "        vertical-align: top;\n",
       "    }\n",
       "\n",
       "    .dataframe thead th {\n",
       "        text-align: right;\n",
       "    }\n",
       "</style>\n",
       "<table border=\"1\" class=\"dataframe\">\n",
       "  <thead>\n",
       "    <tr style=\"text-align: right;\">\n",
       "      <th></th>\n",
       "      <th>Date</th>\n",
       "      <th>Toiler_Paper_Sales (Packs of 12 Rolls)</th>\n",
       "      <th>Toilet_Paper_Forecast (Packs of 12 Rolls)</th>\n",
       "      <th>Error</th>\n",
       "      <th>Absolute Error</th>\n",
       "      <th>Percentage Error</th>\n",
       "      <th>Squared Error</th>\n",
       "    </tr>\n",
       "  </thead>\n",
       "  <tbody>\n",
       "    <tr>\n",
       "      <th>0</th>\n",
       "      <td>1/1/2024</td>\n",
       "      <td>100</td>\n",
       "      <td>105</td>\n",
       "      <td>-5</td>\n",
       "      <td>5</td>\n",
       "      <td>5.000000</td>\n",
       "      <td>25</td>\n",
       "    </tr>\n",
       "    <tr>\n",
       "      <th>1</th>\n",
       "      <td>1/2/2024</td>\n",
       "      <td>110</td>\n",
       "      <td>115</td>\n",
       "      <td>-5</td>\n",
       "      <td>5</td>\n",
       "      <td>4.545455</td>\n",
       "      <td>25</td>\n",
       "    </tr>\n",
       "    <tr>\n",
       "      <th>2</th>\n",
       "      <td>1/3/2024</td>\n",
       "      <td>120</td>\n",
       "      <td>125</td>\n",
       "      <td>-5</td>\n",
       "      <td>5</td>\n",
       "      <td>4.166667</td>\n",
       "      <td>25</td>\n",
       "    </tr>\n",
       "    <tr>\n",
       "      <th>3</th>\n",
       "      <td>1/4/2024</td>\n",
       "      <td>130</td>\n",
       "      <td>135</td>\n",
       "      <td>-5</td>\n",
       "      <td>5</td>\n",
       "      <td>3.846154</td>\n",
       "      <td>25</td>\n",
       "    </tr>\n",
       "    <tr>\n",
       "      <th>4</th>\n",
       "      <td>1/5/2024</td>\n",
       "      <td>105</td>\n",
       "      <td>100</td>\n",
       "      <td>5</td>\n",
       "      <td>5</td>\n",
       "      <td>4.761905</td>\n",
       "      <td>25</td>\n",
       "    </tr>\n",
       "  </tbody>\n",
       "</table>\n",
       "</div>"
      ],
      "text/plain": [
       "       Date  Toiler_Paper_Sales (Packs of 12 Rolls)  \\\n",
       "0  1/1/2024                                     100   \n",
       "1  1/2/2024                                     110   \n",
       "2  1/3/2024                                     120   \n",
       "3  1/4/2024                                     130   \n",
       "4  1/5/2024                                     105   \n",
       "\n",
       "   Toilet_Paper_Forecast (Packs of 12 Rolls)  Error  Absolute Error  \\\n",
       "0                                        105     -5               5   \n",
       "1                                        115     -5               5   \n",
       "2                                        125     -5               5   \n",
       "3                                        135     -5               5   \n",
       "4                                        100      5               5   \n",
       "\n",
       "   Percentage Error  Squared Error  \n",
       "0          5.000000             25  \n",
       "1          4.545455             25  \n",
       "2          4.166667             25  \n",
       "3          3.846154             25  \n",
       "4          4.761905             25  "
      ]
     },
     "execution_count": 118,
     "metadata": {},
     "output_type": "execute_result"
    }
   ],
   "source": [
    "tp.head()"
   ]
  },
  {
   "cell_type": "code",
   "execution_count": 119,
   "metadata": {},
   "outputs": [
    {
     "name": "stdout",
     "output_type": "stream",
     "text": [
      "[5.0, 4.545454545454546, 4.166666666666666, 3.8461538461538463, 4.761904761904762, 4.3478260869565215, 4.0, 3.7037037037037033, 3.571428571428571, 4.545454545454546, 4.3478260869565215, 4.166666666666666, 4.0, 3.8461538461538463, 5.0, 4.545454545454546, 4.166666666666666, 3.8461538461538463, 4.761904761904762, 4.3478260869565215, 4.0, 3.7037037037037033, 3.571428571428571, 4.545454545454546, 4.3478260869565215, 4.166666666666666, 4.0, 3.8461538461538463, 5.0, 4.545454545454546]\n"
     ]
    }
   ],
   "source": [
    "mape_val=[]\n",
    "for i in range(len(tp_actual)):\n",
    "    ele=math.fabs((tp_actual[i]-tp_fore[i])/tp_actual[i])*100\n",
    "    mape_val.append(ele)\n",
    "print(mape_val)"
   ]
  },
  {
   "cell_type": "code",
   "execution_count": 120,
   "metadata": {},
   "outputs": [
    {
     "name": "stdout",
     "output_type": "stream",
     "text": [
      "4.2414644400151635\n"
     ]
    }
   ],
   "source": [
    "Sum=0\n",
    "for i in mape_val:\n",
    "    Sum+=i\n",
    "mape=Sum/len(mape_val)\n",
    "print(mape)"
   ]
  },
  {
   "cell_type": "code",
   "execution_count": 124,
   "metadata": {},
   "outputs": [],
   "source": [
    "MAPE=[mape]\n",
    "df5=pd.DataFrame(MAPE)\n",
    "tp=pd.concat([tp,df5],axis=1)"
   ]
  },
  {
   "cell_type": "code",
   "execution_count": 122,
   "metadata": {},
   "outputs": [
    {
     "name": "stdout",
     "output_type": "stream",
     "text": [
      "[5.0, 5.0, 5.0, 5.0, 5.0, 5.0, 5.0, 5.0, 5.0, 5.0, 5.0, 5.0, 5.0, 5.0, 5.0, 5.0, 5.0, 5.0, 5.0, 5.0, 5.0, 5.0, 5.0, 5.0, 5.0, 5.0, 5.0, 5.0, 5.0, 5.0]\n"
     ]
    }
   ],
   "source": [
    "mad_val=[]\n",
    "for i in range(len(tp_actual)):\n",
    "    ele=math.fabs(tp_actual[i]-tp_fore[i])\n",
    "    mad_val.append(ele)\n",
    "print(mad_val)"
   ]
  },
  {
   "cell_type": "code",
   "execution_count": 123,
   "metadata": {},
   "outputs": [
    {
     "name": "stdout",
     "output_type": "stream",
     "text": [
      "4.2414644400151635\n"
     ]
    }
   ],
   "source": [
    "summ=0\n",
    "for i in mad_val:\n",
    "    summ+=i\n",
    "mad=Sum/len(mad_val)\n",
    "print(mad)"
   ]
  },
  {
   "cell_type": "code",
   "execution_count": 129,
   "metadata": {},
   "outputs": [],
   "source": [
    "MAD=[mad]\n",
    "df6=pd.DataFrame(MAD)\n",
    "tp=pd.concat([tp,df6],axis=1)"
   ]
  },
  {
   "cell_type": "code",
   "execution_count": 130,
   "metadata": {},
   "outputs": [
    {
     "name": "stdout",
     "output_type": "stream",
     "text": [
      "[5, 5, 5, 5, -5, -5, -5, -5, -5, 5, -5, 5, -5, -5, 5, 5, 5, 5, -5, -5, -5, -5, -5, 5, -5, 5, -5, -5, 5, 5]\n"
     ]
    }
   ],
   "source": [
    "fore_val=[]\n",
    "for i in range(len(tp_fore)):\n",
    "    ele=tp_fore[i]-tp_actual[i]\n",
    "    fore_val.append(ele)\n",
    "print(fore_val)"
   ]
  },
  {
   "cell_type": "code",
   "execution_count": 131,
   "metadata": {},
   "outputs": [
    {
     "name": "stdout",
     "output_type": "stream",
     "text": [
      "-0.3333333333333333\n"
     ]
    }
   ],
   "source": [
    "ssum=0\n",
    "for i in fore_val:\n",
    "    ssum+=i\n",
    "fore=ssum/len(fore_val)\n",
    "print(fore)"
   ]
  },
  {
   "cell_type": "code",
   "execution_count": 133,
   "metadata": {},
   "outputs": [],
   "source": [
    "BIAS=[fore]\n",
    "df7=pd.DataFrame(BIAS)\n",
    "tp=pd.concat([tp,df7],axis=1)"
   ]
  },
  {
   "cell_type": "code",
   "execution_count": 135,
   "metadata": {},
   "outputs": [
    {
     "name": "stdout",
     "output_type": "stream",
     "text": [
      "25.0\n"
     ]
    }
   ],
   "source": [
    "sse=tp[\"Squared Error\"]\n",
    "suum=0\n",
    "for i in sse:\n",
    "    suum+=i\n",
    "var=suum/len(sse)\n",
    "print(var)"
   ]
  },
  {
   "cell_type": "code",
   "execution_count": 136,
   "metadata": {},
   "outputs": [],
   "source": [
    "VAR=[var]\n",
    "df8=pd.DataFrame(VAR)\n",
    "tp=pd.concat([tp,df8],axis=1)"
   ]
  },
  {
   "cell_type": "code",
   "execution_count": 139,
   "metadata": {},
   "outputs": [],
   "source": [
    "tp.columns=['Date','Toilet_Paper_Sales (Packs of 12 Rolls)','Toilet_Paper_Forecast (Packs of 12 Rolls)','Error','Absolute Error','Percentage Error','Squared Error','MAPE','MAD','Forecast Bias','Variance']"
   ]
  },
  {
   "cell_type": "code",
   "execution_count": 141,
   "metadata": {},
   "outputs": [
    {
     "data": {
      "text/html": [
       "<div>\n",
       "<style scoped>\n",
       "    .dataframe tbody tr th:only-of-type {\n",
       "        vertical-align: middle;\n",
       "    }\n",
       "\n",
       "    .dataframe tbody tr th {\n",
       "        vertical-align: top;\n",
       "    }\n",
       "\n",
       "    .dataframe thead th {\n",
       "        text-align: right;\n",
       "    }\n",
       "</style>\n",
       "<table border=\"1\" class=\"dataframe\">\n",
       "  <thead>\n",
       "    <tr style=\"text-align: right;\">\n",
       "      <th></th>\n",
       "      <th>Date</th>\n",
       "      <th>Toilet_Paper_Sales (Packs of 12 Rolls)</th>\n",
       "      <th>Toilet_Paper_Forecast (Packs of 12 Rolls)</th>\n",
       "      <th>Error</th>\n",
       "      <th>Absolute Error</th>\n",
       "      <th>Percentage Error</th>\n",
       "      <th>Squared Error</th>\n",
       "      <th>MAPE</th>\n",
       "      <th>MAD</th>\n",
       "      <th>Forecast Bias</th>\n",
       "      <th>Variance</th>\n",
       "    </tr>\n",
       "  </thead>\n",
       "  <tbody>\n",
       "    <tr>\n",
       "      <th>0</th>\n",
       "      <td>1/1/2024</td>\n",
       "      <td>100</td>\n",
       "      <td>105</td>\n",
       "      <td>-5</td>\n",
       "      <td>5</td>\n",
       "      <td>5.000000</td>\n",
       "      <td>25</td>\n",
       "      <td>4.241464</td>\n",
       "      <td>4.241464</td>\n",
       "      <td>-0.333333</td>\n",
       "      <td>25.0</td>\n",
       "    </tr>\n",
       "    <tr>\n",
       "      <th>1</th>\n",
       "      <td>1/2/2024</td>\n",
       "      <td>110</td>\n",
       "      <td>115</td>\n",
       "      <td>-5</td>\n",
       "      <td>5</td>\n",
       "      <td>4.545455</td>\n",
       "      <td>25</td>\n",
       "      <td>NaN</td>\n",
       "      <td>NaN</td>\n",
       "      <td>NaN</td>\n",
       "      <td>NaN</td>\n",
       "    </tr>\n",
       "    <tr>\n",
       "      <th>2</th>\n",
       "      <td>1/3/2024</td>\n",
       "      <td>120</td>\n",
       "      <td>125</td>\n",
       "      <td>-5</td>\n",
       "      <td>5</td>\n",
       "      <td>4.166667</td>\n",
       "      <td>25</td>\n",
       "      <td>NaN</td>\n",
       "      <td>NaN</td>\n",
       "      <td>NaN</td>\n",
       "      <td>NaN</td>\n",
       "    </tr>\n",
       "    <tr>\n",
       "      <th>3</th>\n",
       "      <td>1/4/2024</td>\n",
       "      <td>130</td>\n",
       "      <td>135</td>\n",
       "      <td>-5</td>\n",
       "      <td>5</td>\n",
       "      <td>3.846154</td>\n",
       "      <td>25</td>\n",
       "      <td>NaN</td>\n",
       "      <td>NaN</td>\n",
       "      <td>NaN</td>\n",
       "      <td>NaN</td>\n",
       "    </tr>\n",
       "    <tr>\n",
       "      <th>4</th>\n",
       "      <td>1/5/2024</td>\n",
       "      <td>105</td>\n",
       "      <td>100</td>\n",
       "      <td>5</td>\n",
       "      <td>5</td>\n",
       "      <td>4.761905</td>\n",
       "      <td>25</td>\n",
       "      <td>NaN</td>\n",
       "      <td>NaN</td>\n",
       "      <td>NaN</td>\n",
       "      <td>NaN</td>\n",
       "    </tr>\n",
       "  </tbody>\n",
       "</table>\n",
       "</div>"
      ],
      "text/plain": [
       "       Date  Toilet_Paper_Sales (Packs of 12 Rolls)  \\\n",
       "0  1/1/2024                                     100   \n",
       "1  1/2/2024                                     110   \n",
       "2  1/3/2024                                     120   \n",
       "3  1/4/2024                                     130   \n",
       "4  1/5/2024                                     105   \n",
       "\n",
       "   Toilet_Paper_Forecast (Packs of 12 Rolls)  Error  Absolute Error  \\\n",
       "0                                        105     -5               5   \n",
       "1                                        115     -5               5   \n",
       "2                                        125     -5               5   \n",
       "3                                        135     -5               5   \n",
       "4                                        100      5               5   \n",
       "\n",
       "   Percentage Error  Squared Error      MAPE       MAD  Forecast Bias  \\\n",
       "0          5.000000             25  4.241464  4.241464      -0.333333   \n",
       "1          4.545455             25       NaN       NaN            NaN   \n",
       "2          4.166667             25       NaN       NaN            NaN   \n",
       "3          3.846154             25       NaN       NaN            NaN   \n",
       "4          4.761905             25       NaN       NaN            NaN   \n",
       "\n",
       "   Variance  \n",
       "0      25.0  \n",
       "1       NaN  \n",
       "2       NaN  \n",
       "3       NaN  \n",
       "4       NaN  "
      ]
     },
     "execution_count": 141,
     "metadata": {},
     "output_type": "execute_result"
    }
   ],
   "source": [
    "tp.head()"
   ]
  },
  {
   "cell_type": "markdown",
   "metadata": {},
   "source": [
    "Once the metrics are calculated and added to the dataframe, we can analyze the forecast accuracy and demand variability for the respective product. \n",
    "\n",
    "We can see that the MAPE value for the Toilet Paper forecast is low, which indicates that the forecast for Toilet Paper is off by around 4.2%, suggesting that it's somewhat accurate, but it could be better, and is inaccurate compared to the other four products available."
   ]
  },
  {
   "cell_type": "markdown",
   "metadata": {},
   "source": [
    "Overall, we can say that the forecast accuracy of all the products together are very accurate, which will lead to good customer satisfaction and inventory management."
   ]
  },
  {
   "cell_type": "code",
   "execution_count": null,
   "metadata": {},
   "outputs": [],
   "source": []
  }
 ],
 "metadata": {
  "kernelspec": {
   "display_name": "Python 3",
   "language": "python",
   "name": "python3"
  },
  "language_info": {
   "codemirror_mode": {
    "name": "ipython",
    "version": 3
   },
   "file_extension": ".py",
   "mimetype": "text/x-python",
   "name": "python",
   "nbconvert_exporter": "python",
   "pygments_lexer": "ipython3",
   "version": "3.11.5"
  }
 },
 "nbformat": 4,
 "nbformat_minor": 2
}
